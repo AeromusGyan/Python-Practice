{
 "cells": [
  {
   "cell_type": "markdown",
   "id": "82c0b799",
   "metadata": {},
   "source": [
    "# 1. WAPsum ofall given no in list\n",
    "\n",
    "# 2. WAP to find the median of a list of numbers\n",
    "\n",
    "# 3. WAP to generate in fibonacci series and storein a list then find the sum of the value terms\n",
    "\n",
    "# 4. WAP to create a list of 10 random no in the range of 20 to 80 then delete all the even no. from the list and print the final list"
   ]
  },
  {
   "cell_type": "code",
   "execution_count": null,
   "id": "2276799c",
   "metadata": {},
   "outputs": [],
   "source": []
  }
 ],
 "metadata": {
  "kernelspec": {
   "display_name": "Python 3 (ipykernel)",
   "language": "python",
   "name": "python3"
  },
  "language_info": {
   "codemirror_mode": {
    "name": "ipython",
    "version": 3
   },
   "file_extension": ".py",
   "mimetype": "text/x-python",
   "name": "python",
   "nbconvert_exporter": "python",
   "pygments_lexer": "ipython3",
   "version": "3.10.1"
  }
 },
 "nbformat": 4,
 "nbformat_minor": 5
}
