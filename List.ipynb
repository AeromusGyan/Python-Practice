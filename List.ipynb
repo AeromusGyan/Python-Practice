{
 "cells": [
  {
   "cell_type": "code",
   "execution_count": 5,
   "id": "154dec50",
   "metadata": {},
   "outputs": [
    {
     "name": "stdout",
     "output_type": "stream",
     "text": [
      "['Apple', 'Guavava', 'Mango']\n"
     ]
    }
   ],
   "source": [
    "l1 = list((\"Apple\",\"Guavava\",\"Mango\"))    #Note there is double quote\n",
    "print(l1)"
   ]
  },
  {
   "cell_type": "markdown",
   "id": "6d9ea0ae",
   "metadata": {},
   "source": [
    "# Creating a list"
   ]
  },
  {
   "cell_type": "markdown",
   "id": "8cabf954",
   "metadata": {},
   "source": [
    "# Duplicate Value in list"
   ]
  },
  {
   "cell_type": "code",
   "execution_count": 2,
   "id": "a2ab9b9c",
   "metadata": {},
   "outputs": [
    {
     "name": "stdout",
     "output_type": "stream",
     "text": [
      "Integer List:  [1, 2, 3, 4, 5]\n",
      "String List :  ['Apple', 'Mango', 'Graps', 'Banana']\n"
     ]
    }
   ],
   "source": [
    "# This list stores integer value\n",
    "l1 = [1,2,3,4,5]\n",
    "\n",
    "#this list store string value\n",
    "l2 = [\"Apple\",\"Mango\",\"Graps\",\"Banana\"]\n",
    "print(\"Integer List: \",l1)\n",
    "print(\"String List : \",l2)"
   ]
  },
  {
   "cell_type": "code",
   "execution_count": 3,
   "id": "7c41ce1c",
   "metadata": {},
   "outputs": [
    {
     "name": "stdout",
     "output_type": "stream",
     "text": [
      "Duplicate Value : [1, 2, 3, 4, 1, 2, 3, 4, 5]\n"
     ]
    }
   ],
   "source": [
    "l1 = [1,2,3,4,1,2,3,4,5]\n",
    "print(\"Duplicate Value :\",l1)"
   ]
  },
  {
   "cell_type": "markdown",
   "id": "5f3b8393",
   "metadata": {},
   "source": [
    "# List Constructor"
   ]
  },
  {
   "cell_type": "markdown",
   "id": "453ca216",
   "metadata": {},
   "source": [
    "# List Slicing"
   ]
  },
  {
   "cell_type": "code",
   "execution_count": 11,
   "id": "08dfc584",
   "metadata": {},
   "outputs": [
    {
     "name": "stdout",
     "output_type": "stream",
     "text": [
      "Current List :  [1, 2, 3, 4, 5, 6, 7, 8, 9, 10]\n",
      "Index 1 value : 2\n",
      "Index between 1 to 6 : [2, 3, 4, 5, 6]\n",
      "Index till 6 : [1, 2, 3, 4, 5, 6]\n",
      "Last value : 10\n"
     ]
    }
   ],
   "source": [
    "l1 = [1,2,3,4,5,6,7,8,9,10]\n",
    "print(\"Current List : \",l1)\n",
    "\n",
    "# Access the value of index 1\n",
    "print(\"Index 1 value :\",l1[1])\n",
    "\n",
    "# access the value between 1 to 6\n",
    "print(\"Index between 1 to 6 :\",l1[1:6])\n",
    "\n",
    "# acces the value till index 6\n",
    "print(\"Index till 6 :\",l1[:6])\n",
    "\n",
    "# Access the last value\n",
    "\n",
    "print(\"Last value :\",l1[-1])"
   ]
  },
  {
   "cell_type": "markdown",
   "id": "a522f14e",
   "metadata": {},
   "source": [
    "# List item Changed"
   ]
  },
  {
   "cell_type": "code",
   "execution_count": 1,
   "id": "82c224ab",
   "metadata": {},
   "outputs": [
    {
     "name": "stdout",
     "output_type": "stream",
     "text": [
      "Current List : ['Apple', 'Mango', 'Orange', 'Bananna', 'Kivi', 'Cherry', 'Orange']\n",
      "Updated List : ['Apple', 'Graps', 'Watermelon', 'Bananna', 'Kivi', 'Cherry', 'Orange']\n"
     ]
    }
   ],
   "source": [
    "x = [\"Apple\",\"Mango\",\"Orange\",\"Bananna\",\"Kivi\",\"Cherry\",\"Orange\"]\n",
    "print(\"Current List :\", x)\n",
    "\n",
    "# Changed item in List\n",
    "x[1:3] = [\"Graps\",\"Watermelon\"]\n",
    "print(\"Updated List :\", x)"
   ]
  },
  {
   "cell_type": "markdown",
   "id": "8a78314e",
   "metadata": {},
   "source": [
    "# Insert Into List"
   ]
  },
  {
   "cell_type": "code",
   "execution_count": 16,
   "id": "82b2c188",
   "metadata": {},
   "outputs": [
    {
     "name": "stdout",
     "output_type": "stream",
     "text": [
      "Current List : [1, 2, 3, 45, 6]\n",
      "Updated List : [1, 2, 'Python', 3, 45, 6]\n"
     ]
    }
   ],
   "source": [
    "l1 = [1,2,3,45,6]\n",
    "print(\"Current List :\", l1)\n",
    "# Updating the list using insert method\n",
    "l1.insert(2,\"Python\")\n",
    "print(\"Updated List :\", l1)"
   ]
  },
  {
   "cell_type": "markdown",
   "id": "3af8a5de",
   "metadata": {},
   "source": [
    "# Extend the List"
   ]
  },
  {
   "cell_type": "code",
   "execution_count": 17,
   "id": "cbbc0148",
   "metadata": {},
   "outputs": [
    {
     "name": "stdout",
     "output_type": "stream",
     "text": [
      "[1, 2, 3, 45, 5, 'A', 'B', 'C', 'D', 'E']\n"
     ]
    }
   ],
   "source": [
    "l1 = [1,2,3,45,5]\n",
    "l2 = ['A','B','C','D','E']\n",
    "# extending the list\n",
    "l1.extend(l2)\n",
    "print(l1)"
   ]
  },
  {
   "cell_type": "markdown",
   "id": "d0ecbb59",
   "metadata": {},
   "source": [
    "# Remove item from list"
   ]
  },
  {
   "cell_type": "code",
   "execution_count": 18,
   "id": "e784e79c",
   "metadata": {},
   "outputs": [
    {
     "name": "stdout",
     "output_type": "stream",
     "text": [
      "Current List : [1, 2, 3, 4, 5]\n",
      "Updated List : [1, 2, 4, 5]\n"
     ]
    }
   ],
   "source": [
    "# remove()    : this method is used for remove the element from list\n",
    "l1 = [1,2,3,4,5]\n",
    "print(\"Current List :\", l1)\n",
    "# removing the item using remove method\n",
    "l1.remove(3)\n",
    "print(\"Updated List :\", l1)"
   ]
  },
  {
   "cell_type": "code",
   "execution_count": 2,
   "id": "b2a287b5",
   "metadata": {},
   "outputs": [
    {
     "name": "stdout",
     "output_type": "stream",
     "text": [
      "Current List : [1, 2, 3, 4, 5]\n",
      "Updated List : [1, 2, 3, 4]\n"
     ]
    }
   ],
   "source": [
    "# pop()  :  this method is used to remove last element of list\n",
    "l1 = [1,2,3,4,5]\n",
    "print(\"Current List :\", l1)\n",
    "# removing the item using pop method\n",
    "l1.pop()\n",
    "print(\"Updated List :\", l1)"
   ]
  },
  {
   "cell_type": "code",
   "execution_count": 22,
   "id": "26bca201",
   "metadata": {},
   "outputs": [
    {
     "name": "stdout",
     "output_type": "stream",
     "text": [
      "Current List : [1, 2, 3, 4, 5]\n",
      "Updated List : [1, 2, 3, 5]\n"
     ]
    }
   ],
   "source": [
    "# del()  : this method is used to remove from index\n",
    "l1 = [1,2,3,4,5]\n",
    "print(\"Current List :\", l1)\n",
    "# removing the item using remove method\n",
    "del l1[3]\n",
    "print(\"Updated List :\", l1)"
   ]
  },
  {
   "cell_type": "code",
   "execution_count": 24,
   "id": "89e8f090",
   "metadata": {},
   "outputs": [
    {
     "name": "stdout",
     "output_type": "stream",
     "text": [
      "Current List : [1, 2, 3, 4, 5]\n",
      "Updated List : []\n"
     ]
    }
   ],
   "source": [
    "# Clear()  : this method is used to clear from index\n",
    "l1 = [1,2,3,4,5]\n",
    "print(\"Current List :\", l1)\n",
    "# removing the item using remove method\n",
    "l1.clear()\n",
    "print(\"Updated List :\", l1)"
   ]
  },
  {
   "cell_type": "code",
   "execution_count": null,
   "id": "5ee241a2",
   "metadata": {},
   "outputs": [],
   "source": []
  }
 ],
 "metadata": {
  "kernelspec": {
   "display_name": "Python 3 (ipykernel)",
   "language": "python",
   "name": "python3"
  },
  "language_info": {
   "codemirror_mode": {
    "name": "ipython",
    "version": 3
   },
   "file_extension": ".py",
   "mimetype": "text/x-python",
   "name": "python",
   "nbconvert_exporter": "python",
   "pygments_lexer": "ipython3",
   "version": "3.10.1"
  }
 },
 "nbformat": 4,
 "nbformat_minor": 5
}
