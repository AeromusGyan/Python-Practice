{
 "cells": [
  {
   "cell_type": "markdown",
   "id": "e777eb6f",
   "metadata": {},
   "source": [
    "# While Loop "
   ]
  },
  {
   "cell_type": "code",
   "execution_count": null,
   "id": "c90dcf50",
   "metadata": {},
   "outputs": [],
   "source": [
    "# 5,9,12,14,15,\n",
    "sum = 0\n",
    "n = int(input(\"N :\"))\n",
    "while n>0 :\n",
    "    sum = sum+n\n",
    "    n-=1\n",
    "    print(\"Sum :\", sum)\n",
    "else :\n",
    "    print(\"loop error\")\n",
    "print(\"Bye\")"
   ]
  },
  {
   "cell_type": "markdown",
   "id": "bc3dd537",
   "metadata": {},
   "source": [
    "# Simple For Loop"
   ]
  },
  {
   "cell_type": "code",
   "execution_count": 1,
   "id": "0da4b8df",
   "metadata": {},
   "outputs": [
    {
     "name": "stdout",
     "output_type": "stream",
     "text": [
      "Python = 6\n",
      "Java = 4\n",
      "Angular = 7\n",
      "Html = 4\n"
     ]
    }
   ],
   "source": [
    "word = [\"Python\",\"Java\",\"Angular\",\"Html\"]\n",
    "for i in word :\n",
    "    print(i, '=',len(i))"
   ]
  },
  {
   "cell_type": "markdown",
   "id": "35305912",
   "metadata": {},
   "source": [
    "# Nested For loop"
   ]
  },
  {
   "cell_type": "code",
   "execution_count": 4,
   "id": "cb64ddd8",
   "metadata": {},
   "outputs": [
    {
     "name": "stdout",
     "output_type": "stream",
     "text": [
      "* \n",
      "* * \n",
      "* * * \n",
      "* * * * \n",
      "* * * * * \n"
     ]
    }
   ],
   "source": [
    "# *\n",
    "# **\n",
    "# *** \n",
    "# ****\n",
    "# *****\n",
    "# range (start point, end point,step(jump))\n",
    "for i in range(1,6):\n",
    "    for j in range(i):\n",
    "        print(\"* \",end = \"\")\n",
    "    print()"
   ]
  },
  {
   "cell_type": "code",
   "execution_count": 8,
   "id": "ed38e564",
   "metadata": {},
   "outputs": [
    {
     "name": "stdout",
     "output_type": "stream",
     "text": [
      "* * * * * \n",
      "* * * * \n",
      "* * * \n",
      "* * \n",
      "* \n"
     ]
    }
   ],
   "source": [
    "# * * * * * \n",
    "# * * * * \n",
    "# * * * \n",
    "# * * \n",
    "# * \n",
    "# range (start point, end point,step(jump))\n",
    "\n",
    "for i in range(5,0,-1):\n",
    "    for j in range(i):\n",
    "        print(\"* \",end = \"\")\n",
    "    print()"
   ]
  },
  {
   "cell_type": "code",
   "execution_count": null,
   "id": "44eec536",
   "metadata": {},
   "outputs": [],
   "source": []
  },
  {
   "cell_type": "code",
   "execution_count": null,
   "id": "245f4279",
   "metadata": {},
   "outputs": [],
   "source": []
  }
 ],
 "metadata": {
  "kernelspec": {
   "display_name": "Python 3 (ipykernel)",
   "language": "python",
   "name": "python3"
  },
  "language_info": {
   "codemirror_mode": {
    "name": "ipython",
    "version": 3
   },
   "file_extension": ".py",
   "mimetype": "text/x-python",
   "name": "python",
   "nbconvert_exporter": "python",
   "pygments_lexer": "ipython3",
   "version": "3.10.1"
  }
 },
 "nbformat": 4,
 "nbformat_minor": 5
}
