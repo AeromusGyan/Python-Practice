{
 "cells": [
  {
   "cell_type": "code",
   "execution_count": 3,
   "id": "e29c70e0",
   "metadata": {},
   "outputs": [
    {
     "name": "stdout",
     "output_type": "stream",
     "text": [
      "i is greater than 15\n",
      "inside else block\n",
      "outside block\n"
     ]
    }
   ],
   "source": [
    "i= 20\n",
    "if(i<=15):\n",
    "    print(\"i is less than 15\")\n",
    "    print(\"World\")\n",
    "else:\n",
    "    print(\"i is greater than 15\")\n",
    "    print(\"inside else block\")\n",
    "print(\"outside block\")"
   ]
  },
  {
   "cell_type": "code",
   "execution_count": null,
   "id": "c4e3e5bb",
   "metadata": {},
   "outputs": [],
   "source": []
  }
 ],
 "metadata": {
  "kernelspec": {
   "display_name": "Python 3 (ipykernel)",
   "language": "python",
   "name": "python3"
  },
  "language_info": {
   "codemirror_mode": {
    "name": "ipython",
    "version": 3
   },
   "file_extension": ".py",
   "mimetype": "text/x-python",
   "name": "python",
   "nbconvert_exporter": "python",
   "pygments_lexer": "ipython3",
   "version": "3.10.1"
  }
 },
 "nbformat": 4,
 "nbformat_minor": 5
}
