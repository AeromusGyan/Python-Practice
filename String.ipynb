{
 "cells": [
  {
   "cell_type": "markdown",
   "id": "955ab82b",
   "metadata": {},
   "source": [
    "# How to use String in Python"
   ]
  },
  {
   "cell_type": "code",
   "execution_count": 2,
   "id": "b5df8027",
   "metadata": {},
   "outputs": [
    {
     "name": "stdout",
     "output_type": "stream",
     "text": [
      "Hello Gyan Prakash\n",
      "Hello Double Quate\n"
     ]
    }
   ],
   "source": [
    "# Single Quate in String\n",
    "print('Hello Gyan Prakash')\n",
    "\n",
    "# Double Quate in String\n",
    "print(\"Hello Double Quate\")"
   ]
  },
  {
   "cell_type": "markdown",
   "id": "2f8c32c7",
   "metadata": {},
   "source": [
    "# Multiline String"
   ]
  },
  {
   "cell_type": "code",
   "execution_count": 4,
   "id": "bef5ad1b",
   "metadata": {},
   "outputs": [
    {
     "name": "stdout",
     "output_type": "stream",
     "text": [
      "Python is Booming in the market,\n",
      "Python is smart Language,\n",
      "Python is used in AI, Machine learning, Data Science\n"
     ]
    }
   ],
   "source": [
    "a = \"\"\"Python is Booming in the market,\n",
    "Python is smart Language,\n",
    "Python is used in AI, Machine learning, Data Science\"\"\"\n",
    "print(a)"
   ]
  },
  {
   "cell_type": "markdown",
   "id": "e410f55f",
   "metadata": {},
   "source": [
    "# Update String"
   ]
  },
  {
   "cell_type": "code",
   "execution_count": 9,
   "id": "337517c9",
   "metadata": {},
   "outputs": [
    {
     "name": "stdout",
     "output_type": "stream",
     "text": [
      "Hello World!\n",
      "Update String :  Hello Python\n",
      "Update String :  Welcome Hello Gyan\n"
     ]
    }
   ],
   "source": [
    "a = \"Hello World!\"\n",
    "print(a)\n",
    "print(\"Update String : \",a[:6]+\"Python\")\n",
    "print(\"Update String : \",a[:0]+\"Welcome\",a[:6]+\"Gyan\")"
   ]
  },
  {
   "cell_type": "markdown",
   "id": "564dfa7d",
   "metadata": {},
   "source": [
    "# String Slicing"
   ]
  },
  {
   "cell_type": "code",
   "execution_count": 14,
   "id": "627d5d52",
   "metadata": {},
   "outputs": [
    {
     "name": "stdout",
     "output_type": "stream",
     "text": [
      "Index 1 :  e\n",
      "Index between 1 to 6 : ello \n",
      "Index till 6 : Hello P\n",
      "Last value : n\n"
     ]
    }
   ],
   "source": [
    "a = \"Hello Python\"\n",
    "# Access the value of index\n",
    "print(\"Index 1 : \",a[1])\n",
    "\n",
    "#access the value between 1 to 6\n",
    "print(\"Index between 1 to 6 :\",a[1:6])\n",
    "\n",
    "#access the value till index 6\n",
    "\n",
    "print(\"Index till 6 :\",a[:7])\n",
    "\n",
    "# access the last value from string\n",
    "print(\"Last value :\",a[-1])"
   ]
  },
  {
   "cell_type": "markdown",
   "id": "97dc5d28",
   "metadata": {},
   "source": [
    "# String In built Method"
   ]
  },
  {
   "cell_type": "code",
   "execution_count": 16,
   "id": "2f08f1a2",
   "metadata": {},
   "outputs": [
    {
     "name": "stdout",
     "output_type": "stream",
     "text": [
      "Hello and welcome aeromus\n"
     ]
    }
   ],
   "source": [
    "# Capitalize()  : This method convert the first character in string\n",
    "a = \"hello and welcome aeromus\"\n",
    "\n",
    "x = a.capitalize()\n",
    "print(x)"
   ]
  },
  {
   "cell_type": "code",
   "execution_count": 19,
   "id": "f92d4f5b",
   "metadata": {},
   "outputs": [
    {
     "name": "stdout",
     "output_type": "stream",
     "text": [
      "hello and welcome aeromus\n"
     ]
    }
   ],
   "source": [
    "# Casefold()  : this method convert all capital letter to small letter\n",
    "\n",
    "a = \"Hello And Welcome Aeromus\"\n",
    "x = a.casefold()\n",
    "print(x)"
   ]
  },
  {
   "cell_type": "code",
   "execution_count": 1,
   "id": "96437806",
   "metadata": {},
   "outputs": [
    {
     "name": "stdout",
     "output_type": "stream",
     "text": [
      "Python\n",
      "                      Python                      \n"
     ]
    }
   ],
   "source": [
    "# Center()  : this is use to bring your into center\n",
    "a = \"Python\"\n",
    "print(a)\n",
    "x = a.center(50)\n",
    "print(x)\n",
    "# Update using center() method"
   ]
  },
  {
   "cell_type": "code",
   "execution_count": 26,
   "id": "cc788907",
   "metadata": {},
   "outputs": [
    {
     "name": "stdout",
     "output_type": "stream",
     "text": [
      "2\n"
     ]
    }
   ],
   "source": [
    "# Count()  : This method is used to count the repeated word in String\n",
    "a = \"I love Python, Python is smart Language\"\n",
    "x = a.count(\"Python\")\n",
    "print(x)"
   ]
  },
  {
   "cell_type": "markdown",
   "id": "d5bf4d55",
   "metadata": {},
   "source": [
    "# How to compare String"
   ]
  },
  {
   "cell_type": "code",
   "execution_count": 27,
   "id": "9fed546d",
   "metadata": {},
   "outputs": [
    {
     "name": "stdout",
     "output_type": "stream",
     "text": [
      "True\n"
     ]
    }
   ],
   "source": [
    "str1 = \"Aeromus\"\n",
    "str2 = \"Aeromus\"\n",
    "result = str1==str2\n",
    "print(result)"
   ]
  },
  {
   "cell_type": "code",
   "execution_count": 28,
   "id": "cc7dc771",
   "metadata": {},
   "outputs": [
    {
     "name": "stdout",
     "output_type": "stream",
     "text": [
      "False\n"
     ]
    }
   ],
   "source": [
    "str1  = \"Aeromus\"\n",
    "str2 = \"Python\"\n",
    "result = str1==str2\n",
    "print(result)"
   ]
  },
  {
   "cell_type": "code",
   "execution_count": 29,
   "id": "8052b8cf",
   "metadata": {},
   "outputs": [
    {
     "name": "stdout",
     "output_type": "stream",
     "text": [
      "True\n"
     ]
    }
   ],
   "source": [
    "str1 = 'A'\n",
    "str2 = 'B'\n",
    "\n",
    "result = str1<str2\n",
    "print(result)"
   ]
  },
  {
   "cell_type": "code",
   "execution_count": null,
   "id": "3e619125",
   "metadata": {},
   "outputs": [],
   "source": []
  }
 ],
 "metadata": {
  "celltoolbar": "Slideshow",
  "kernelspec": {
   "display_name": "Python 3 (ipykernel)",
   "language": "python",
   "name": "python3"
  },
  "language_info": {
   "codemirror_mode": {
    "name": "ipython",
    "version": 3
   },
   "file_extension": ".py",
   "mimetype": "text/x-python",
   "name": "python",
   "nbconvert_exporter": "python",
   "pygments_lexer": "ipython3",
   "version": "3.10.1"
  }
 },
 "nbformat": 4,
 "nbformat_minor": 5
}
