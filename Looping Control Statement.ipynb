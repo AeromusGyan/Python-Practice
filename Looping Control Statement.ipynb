{
 "cells": [
  {
   "cell_type": "markdown",
   "id": "ffb0bbe0",
   "metadata": {},
   "source": [
    "# Break Statement"
   ]
  },
  {
   "cell_type": "code",
   "execution_count": 6,
   "id": "b30ac71f",
   "metadata": {},
   "outputs": [
    {
     "name": "stdout",
     "output_type": "stream",
     "text": [
      "Current Letter : p\n",
      "Current Letter : y\n",
      "Current Letter : t\n",
      "Bye\n"
     ]
    }
   ],
   "source": [
    "for letter in \"python\":\n",
    "    if letter == 'h':\n",
    "        # here i am using break statement to break execution\n",
    "        break\n",
    "    print(\"Current Letter :\",letter)\n",
    "print(\"Bye\")"
   ]
  },
  {
   "cell_type": "markdown",
   "id": "f088f365",
   "metadata": {},
   "source": [
    "# Continue Statement"
   ]
  },
  {
   "cell_type": "code",
   "execution_count": 9,
   "id": "746b79b8",
   "metadata": {},
   "outputs": [
    {
     "name": "stdout",
     "output_type": "stream",
     "text": [
      "Current Letter :  P\n",
      "Current Letter :  y\n",
      "Current Letter :  t\n",
      "Current Letter :  o\n",
      "Current Letter :  n\n",
      "Bye\n"
     ]
    }
   ],
   "source": [
    "for letter in \"Python\":\n",
    "    if letter == 'h':\n",
    "        # Continue statement will skip the letter\n",
    "        continue\n",
    "    print(\"Current Letter : \",letter)\n",
    "print(\"Bye\")"
   ]
  },
  {
   "cell_type": "markdown",
   "id": "832b4307",
   "metadata": {},
   "source": [
    "# Pass Statement"
   ]
  },
  {
   "cell_type": "code",
   "execution_count": 10,
   "id": "51872ef4",
   "metadata": {},
   "outputs": [
    {
     "name": "stdout",
     "output_type": "stream",
     "text": [
      "Current letter : P\n",
      "Current letter : y\n",
      "Current letter : t\n",
      "Pass Block\n",
      "Current letter : h\n",
      "Current letter : o\n",
      "Current letter : n\n",
      "Bye\n"
     ]
    }
   ],
   "source": [
    "for letter in \"Python\":\n",
    "    if letter == 'h':\n",
    "        pass\n",
    "        print(\"Pass Block\")\n",
    "    print(\"Current letter :\",letter)\n",
    "print(\"Bye\")"
   ]
  },
  {
   "cell_type": "code",
   "execution_count": null,
   "id": "0c938d45",
   "metadata": {},
   "outputs": [],
   "source": []
  }
 ],
 "metadata": {
  "kernelspec": {
   "display_name": "Python 3 (ipykernel)",
   "language": "python",
   "name": "python3"
  },
  "language_info": {
   "codemirror_mode": {
    "name": "ipython",
    "version": 3
   },
   "file_extension": ".py",
   "mimetype": "text/x-python",
   "name": "python",
   "nbconvert_exporter": "python",
   "pygments_lexer": "ipython3",
   "version": "3.10.1"
  }
 },
 "nbformat": 4,
 "nbformat_minor": 5
}
