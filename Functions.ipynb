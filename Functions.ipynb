{
 "cells": [
  {
   "cell_type": "markdown",
   "id": "19a0c0c2",
   "metadata": {},
   "source": [
    "# In built function"
   ]
  },
  {
   "cell_type": "code",
   "execution_count": 2,
   "id": "8c71a129",
   "metadata": {},
   "outputs": [
    {
     "name": "stdout",
     "output_type": "stream",
     "text": [
      "Hello\n",
      "1\n",
      "2\n",
      "3\n",
      "4\n",
      "5\n",
      "6\n",
      "7\n",
      "8\n",
      "53.56\n"
     ]
    }
   ],
   "source": [
    "#print function\n",
    "print(\"Hello\")\n",
    "\n",
    "# Range function\n",
    "for i in range(1,9):\n",
    "    print(i)\n",
    "    \n",
    "#Round() function\n",
    "\n",
    "x = round(53.56465,2)\n",
    "print(x)"
   ]
  },
  {
   "cell_type": "markdown",
   "id": "27245d6b",
   "metadata": {},
   "source": [
    "# User define function"
   ]
  },
  {
   "cell_type": "code",
   "execution_count": 4,
   "id": "21d4806d",
   "metadata": {},
   "outputs": [
    {
     "name": "stdout",
     "output_type": "stream",
     "text": [
      "Hello\n"
     ]
    }
   ],
   "source": [
    "# create function\n",
    "def myFunction():\n",
    "    print(\"Hello\")\n",
    "    \n",
    "# calling a function\n",
    "myFunction()"
   ]
  },
  {
   "cell_type": "markdown",
   "id": "4ace77fa",
   "metadata": {},
   "source": [
    " # function with one argument"
   ]
  },
  {
   "cell_type": "code",
   "execution_count": 6,
   "id": "ec5d81d7",
   "metadata": {},
   "outputs": [
    {
     "name": "stdout",
     "output_type": "stream",
     "text": [
      "A : 10\n"
     ]
    }
   ],
   "source": [
    "# creating a function\n",
    "\n",
    "def myFunction(a):\n",
    "    print(\"A :\",a)\n",
    "    \n",
    "#calling a function\n",
    "myFunction(10) #passing a argument as a 10"
   ]
  },
  {
   "cell_type": "markdown",
   "id": "07944f17",
   "metadata": {},
   "source": [
    "# Multiple argument into function"
   ]
  },
  {
   "cell_type": "code",
   "execution_count": 7,
   "id": "20515cf6",
   "metadata": {},
   "outputs": [
    {
     "name": "stdout",
     "output_type": "stream",
     "text": [
      "A : 10\n",
      "B : 20\n"
     ]
    }
   ],
   "source": [
    "# creating a function\n",
    "\n",
    "def myFunction(a,b):\n",
    "    print(\"A :\",a)\n",
    "    print(\"B :\",b)\n",
    "    \n",
    "# calling a function\n",
    "myFunction(10,20)  # passing 2 arguments"
   ]
  },
  {
   "cell_type": "markdown",
   "id": "95a20613",
   "metadata": {},
   "source": [
    "# Keywords arguments into function"
   ]
  },
  {
   "cell_type": "code",
   "execution_count": 9,
   "id": "7046a380",
   "metadata": {},
   "outputs": [
    {
     "name": "stdout",
     "output_type": "stream",
     "text": [
      "Youngest child is :Gyan\n"
     ]
    }
   ],
   "source": [
    "def myFunction(child1,child2,child3):\n",
    "    print(\"Youngest child is :\"+child3)\n",
    "    \n",
    "#calling a function\n",
    "myFunction(child1=\"Ritesh\",child2=\"Ram\",child3=\"Gyan\")"
   ]
  },
  {
   "cell_type": "markdown",
   "id": "3de92824",
   "metadata": {},
   "source": [
    "# Default Parameter value"
   ]
  },
  {
   "cell_type": "code",
   "execution_count": 12,
   "id": "59b7fa16",
   "metadata": {},
   "outputs": [
    {
     "name": "stdout",
     "output_type": "stream",
     "text": [
      "I am from :Rajasthan\n",
      "I am from :Panjab\n",
      "I am from :Gujrat\n",
      "I am from :UP\n"
     ]
    }
   ],
   "source": [
    "# creating a function\n",
    "def myFunction(state=\"UP\"):\n",
    "    print(\"I am from :\"+state)\n",
    "    \n",
    "#calling\n",
    "myFunction(\"Rajasthan\")\n",
    "myFunction(\"Panjab\")\n",
    "myFunction(\"Gujrat\")\n",
    "myFunction()"
   ]
  },
  {
   "cell_type": "markdown",
   "id": "6d9cc655",
   "metadata": {},
   "source": [
    "# Passing a list into a function"
   ]
  },
  {
   "cell_type": "code",
   "execution_count": 13,
   "id": "9d65ea74",
   "metadata": {},
   "outputs": [
    {
     "name": "stdout",
     "output_type": "stream",
     "text": [
      "Apple\n",
      "Mango\n",
      "banana\n"
     ]
    }
   ],
   "source": [
    "# creating a function\n",
    "def myFunction(fruit):\n",
    "    for i in fruit:\n",
    "        print(i)\n",
    "        \n",
    "f = [\"Apple\",\"Mango\",\"banana\"]\n",
    "myFunction(f)"
   ]
  },
  {
   "cell_type": "markdown",
   "id": "d557d52c",
   "metadata": {},
   "source": [
    "# Return value from function"
   ]
  },
  {
   "cell_type": "code",
   "execution_count": 14,
   "id": "f8267753",
   "metadata": {},
   "outputs": [
    {
     "name": "stdout",
     "output_type": "stream",
     "text": [
      "15\n",
      "20\n",
      "25\n"
     ]
    }
   ],
   "source": [
    "#creating a function\n",
    "\n",
    "def myFunction(x):\n",
    "    return 5*x\n",
    "\n",
    "#calling a function\n",
    "\n",
    "print(myFunction(3))\n",
    "print(myFunction(4))\n",
    "print(myFunction(5))"
   ]
  },
  {
   "cell_type": "markdown",
   "id": "ba685e5b",
   "metadata": {},
   "source": [
    "# Recursion Function"
   ]
  },
  {
   "cell_type": "code",
   "execution_count": 15,
   "id": "4ca24fc1",
   "metadata": {},
   "outputs": [
    {
     "name": "stdout",
     "output_type": "stream",
     "text": [
      "Num 5\n",
      "The factorial of : 5 is 120\n"
     ]
    }
   ],
   "source": [
    "# creating a function\n",
    "def fact(x):\n",
    "    if x==1:\n",
    "        return 1\n",
    "    else:\n",
    "        #calling a recursion function\n",
    "        return (x*fact(x-1))\n",
    "    \n",
    "num = int(input(\"Num \"))\n",
    "print(\"The factorial of :\",num,\"is\",fact(num))"
   ]
  },
  {
   "cell_type": "markdown",
   "id": "30f4dc9c",
   "metadata": {},
   "source": [
    "# Anonymus function (Lambda Function)"
   ]
  },
  {
   "cell_type": "code",
   "execution_count": 17,
   "id": "c564540f",
   "metadata": {},
   "outputs": [
    {
     "name": "stdout",
     "output_type": "stream",
     "text": [
      "15\n",
      "40\n"
     ]
    }
   ],
   "source": [
    "# Creating a function\n",
    "\n",
    "x = lambda a : a+10\n",
    "print(x(5))\n",
    "\n",
    "# Lambda function with multiple arguments\n",
    "y = lambda a,b :a*b\n",
    "print(y(5,8))"
   ]
  },
  {
   "cell_type": "markdown",
   "id": "4acb0318",
   "metadata": {},
   "source": [
    "# Gloabal Variable"
   ]
  },
  {
   "cell_type": "code",
   "execution_count": 20,
   "id": "f128e619",
   "metadata": {},
   "outputs": [
    {
     "name": "stdout",
     "output_type": "stream",
     "text": [
      "25\n",
      "10\n"
     ]
    }
   ],
   "source": [
    "# global variable means the variable can be use anywhere in program\n",
    "\n",
    "z = 25 # global variable\n",
    "\n",
    "def myFunction():\n",
    "    global z\n",
    "    print(z)\n",
    "    z=10\n",
    "myFunction()\n",
    "print(z)"
   ]
  },
  {
   "cell_type": "markdown",
   "id": "6bdcbea6",
   "metadata": {},
   "source": [
    "# Local variable"
   ]
  },
  {
   "cell_type": "code",
   "execution_count": 22,
   "id": "e635ffed",
   "metadata": {},
   "outputs": [
    {
     "name": "stdout",
     "output_type": "stream",
     "text": [
      "8\n",
      "<function <lambda> at 0x000001FCB098A440>\n"
     ]
    }
   ],
   "source": [
    "# the variable which can be use in scope\n",
    "\n",
    "def sum(x,y):\n",
    "    sum =x+y\n",
    "    return sum\n",
    "print(sum(3,5))\n",
    "\n",
    "print(x)   # variable x is local variable  "
   ]
  },
  {
   "cell_type": "code",
   "execution_count": null,
   "id": "030aacf4",
   "metadata": {},
   "outputs": [],
   "source": []
  }
 ],
 "metadata": {
  "kernelspec": {
   "display_name": "Python 3 (ipykernel)",
   "language": "python",
   "name": "python3"
  },
  "language_info": {
   "codemirror_mode": {
    "name": "ipython",
    "version": 3
   },
   "file_extension": ".py",
   "mimetype": "text/x-python",
   "name": "python",
   "nbconvert_exporter": "python",
   "pygments_lexer": "ipython3",
   "version": "3.10.1"
  }
 },
 "nbformat": 4,
 "nbformat_minor": 5
}
