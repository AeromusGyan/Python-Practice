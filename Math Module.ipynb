{
 "cells": [
  {
   "cell_type": "markdown",
   "id": "e5989d5e",
   "metadata": {},
   "source": [
    "# import math"
   ]
  },
  {
   "cell_type": "code",
   "execution_count": 1,
   "id": "e11f6579",
   "metadata": {},
   "outputs": [],
   "source": [
    "# import math\n",
    "#from math import function name"
   ]
  },
  {
   "cell_type": "markdown",
   "id": "a93d7473",
   "metadata": {},
   "source": [
    "# Factorial\n"
   ]
  },
  {
   "cell_type": "code",
   "execution_count": 3,
   "id": "d836f1cf",
   "metadata": {},
   "outputs": [
    {
     "name": "stdout",
     "output_type": "stream",
     "text": [
      "720\n",
      "362880\n",
      "479001600\n"
     ]
    }
   ],
   "source": [
    "import math\n",
    "print(math.factorial(6))\n",
    "print(math.factorial(9))\n",
    "print(math.factorial(12))"
   ]
  },
  {
   "cell_type": "markdown",
   "id": "3ba4fc9f",
   "metadata": {},
   "source": [
    "# ceil()"
   ]
  },
  {
   "cell_type": "code",
   "execution_count": 6,
   "id": "8f0ed2f8",
   "metadata": {},
   "outputs": [
    {
     "name": "stdout",
     "output_type": "stream",
     "text": [
      "2\n",
      "6\n",
      "-5\n"
     ]
    }
   ],
   "source": [
    "import math\n",
    "print(math.ceil(1.4))\n",
    "\n",
    "print(math.ceil(5.3))\n",
    "\n",
    "print(math.ceil(-5.3))"
   ]
  },
  {
   "cell_type": "markdown",
   "id": "cb0f0e29",
   "metadata": {},
   "source": [
    "# floor()"
   ]
  },
  {
   "cell_type": "code",
   "execution_count": 8,
   "id": "4a3a7c35",
   "metadata": {},
   "outputs": [
    {
     "name": "stdout",
     "output_type": "stream",
     "text": [
      "0\n",
      "1\n",
      "5\n"
     ]
    }
   ],
   "source": [
    "import math\n",
    "print(math.floor(0.6))\n",
    "\n",
    "print(math.floor(1.6))\n",
    "\n",
    "print(math.floor(5.6))"
   ]
  },
  {
   "cell_type": "markdown",
   "id": "52c8a0da",
   "metadata": {},
   "source": [
    "# sqrt()"
   ]
  },
  {
   "cell_type": "code",
   "execution_count": 10,
   "id": "89e68184",
   "metadata": {},
   "outputs": [
    {
     "name": "stdout",
     "output_type": "stream",
     "text": [
      "3.1622776601683795\n",
      "4.0\n"
     ]
    }
   ],
   "source": [
    "import math\n",
    "print(math.sqrt(10))\n",
    "print(math.sqrt(16))"
   ]
  },
  {
   "cell_type": "code",
   "execution_count": 12,
   "id": "e5921077",
   "metadata": {},
   "outputs": [
    {
     "name": "stdout",
     "output_type": "stream",
     "text": [
      "15\n"
     ]
    }
   ],
   "source": [
    "def f1():\n",
    "    x=15    \n",
    "    print(x)\n",
    "    x=12 \n",
    "f1()"
   ]
  },
  {
   "cell_type": "code",
   "execution_count": null,
   "id": "f31ebd36",
   "metadata": {},
   "outputs": [],
   "source": []
  }
 ],
 "metadata": {
  "kernelspec": {
   "display_name": "Python 3 (ipykernel)",
   "language": "python",
   "name": "python3"
  },
  "language_info": {
   "codemirror_mode": {
    "name": "ipython",
    "version": 3
   },
   "file_extension": ".py",
   "mimetype": "text/x-python",
   "name": "python",
   "nbconvert_exporter": "python",
   "pygments_lexer": "ipython3",
   "version": "3.10.1"
  }
 },
 "nbformat": 4,
 "nbformat_minor": 5
}
