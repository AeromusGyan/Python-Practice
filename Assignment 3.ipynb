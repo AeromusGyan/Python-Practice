{
 "cells": [
  {
   "cell_type": "markdown",
   "id": "20e653b2",
   "metadata": {},
   "source": [
    "# WAP to accept a list from the user and print the alternate element of list"
   ]
  },
  {
   "cell_type": "code",
   "execution_count": 5,
   "id": "650b6f2d",
   "metadata": {},
   "outputs": [
    {
     "name": "stdout",
     "output_type": "stream",
     "text": [
      "Enter the listMango\n",
      "Enter the listApple\n",
      "Enter the listBanana\n",
      "Enter the listGraps\n",
      "Enter the listKivi\n",
      "Updated List : ['Mango', 'Apple', 'Banana', 'Graps', 'Kivi']\n"
     ]
    }
   ],
   "source": [
    "list1 = []\n",
    "for i in range(5):\n",
    "    inp = input(\"Enter the list\")\n",
    "    list1.insert(i,inp)\n",
    "print(\"Updated List :\", list1)"
   ]
  },
  {
   "cell_type": "markdown",
   "id": "e5b1848f",
   "metadata": {},
   "source": [
    "# WAP to remove the element \"3\" to given list [1,2,34,5,6]"
   ]
  },
  {
   "cell_type": "code",
   "execution_count": 6,
   "id": "dc25dbe4",
   "metadata": {},
   "outputs": [
    {
     "name": "stdout",
     "output_type": "stream",
     "text": [
      "[1, 2, 4, 5, 6]\n"
     ]
    }
   ],
   "source": [
    "l1 = [1,2,3,4,5,6]\n",
    "l1.remove(3)\n",
    "print(l1)"
   ]
  },
  {
   "cell_type": "markdown",
   "id": "e31f4c4d",
   "metadata": {},
   "source": [
    "# WAP to insert the element \"Python\" on index 2in the given list [\"Java\",\"Php\",\".Net\",\"Angular\"]"
   ]
  },
  {
   "cell_type": "code",
   "execution_count": 7,
   "id": "f3ee4879",
   "metadata": {},
   "outputs": [
    {
     "name": "stdout",
     "output_type": "stream",
     "text": [
      "['Java', 'Php', 'Python', '.Net', 'Angular']\n"
     ]
    }
   ],
   "source": [
    "list2  = [\"Java\",\"Php\",\".Net\",\"Angular\"]\n",
    "list2.insert(2,\"Python\")\n",
    "print(list2)"
   ]
  },
  {
   "cell_type": "markdown",
   "id": "e323f7c9",
   "metadata": {},
   "source": [
    "# WAP to add element in list using for loop"
   ]
  },
  {
   "cell_type": "code",
   "execution_count": 1,
   "id": "86609a2d",
   "metadata": {},
   "outputs": [
    {
     "name": "stdout",
     "output_type": "stream",
     "text": [
      "Enter the listpython\n",
      "Enter the listprogram\n",
      "Enter the listjava\n",
      "Enter the listphp\n",
      "Enter the listangular\n",
      "['python', 'program', 'java', 'php', 'angular']\n"
     ]
    }
   ],
   "source": [
    "list3 = []\n",
    "for i in range(5):\n",
    "    str = input(\"Enter the list\")\n",
    "    list3.insert(i,str)\n",
    "print(list3)"
   ]
  },
  {
   "cell_type": "markdown",
   "id": "493dd3f5",
   "metadata": {},
   "source": [
    "# WAP TO PERFORM SLICING ON TUPLE (\"Python\",1,2,3,\"java\",\"A\",\"B\") With following slicing point \n",
    "# print alternate value of tuple\n",
    "# print value between 1 to 5\n",
    "# print the last value of tuple"
   ]
  },
  {
   "cell_type": "code",
   "execution_count": 9,
   "id": "1ec3ed85",
   "metadata": {},
   "outputs": [
    {
     "name": "stdout",
     "output_type": "stream",
     "text": [
      "Alternate Value of tuple A\n",
      "Between 1 to 5 Value of tuple (1, 2, 3, 'Java')\n",
      "Alternate Value of tuple B\n"
     ]
    }
   ],
   "source": [
    "t1 = (\"Python\",1,2,3,\"Java\",\"A\",\"B\")\n",
    "\n",
    "print(\"Alternate Value of tuple\",t1[5])\n",
    "print(\"Between 1 to 5 Value of tuple\",t1[1:5])\n",
    "print(\"Alternate Value of tuple\",t1[-1])"
   ]
  },
  {
   "cell_type": "markdown",
   "id": "9b919b43",
   "metadata": {},
   "source": [
    "# WAP TO COUNT ELEMENT IN GIVEN TUPLE (1,2,3,4,5,6,7,8)"
   ]
  },
  {
   "cell_type": "code",
   "execution_count": 15,
   "id": "c7c8f4b6",
   "metadata": {
    "scrolled": true
   },
   "outputs": [
    {
     "name": "stdout",
     "output_type": "stream",
     "text": [
      "Using Len () : 8\n",
      "Using for Loop 8\n"
     ]
    }
   ],
   "source": [
    "t2 = (1,2,3,4,5,6,7,8)\n",
    "print(\"Using Len () :\",len(t2))\n",
    "count = 0\n",
    "for i in t2:\n",
    "    count = count+1\n",
    "print(\"Using for Loop\",count)\n",
    "    "
   ]
  },
  {
   "cell_type": "markdown",
   "id": "e0bfe656",
   "metadata": {},
   "source": [
    "# WAP to Conert tuple into list"
   ]
  },
  {
   "cell_type": "code",
   "execution_count": 17,
   "id": "bbd5d220",
   "metadata": {},
   "outputs": [
    {
     "name": "stdout",
     "output_type": "stream",
     "text": [
      "[1, 2, 3, 4, 5, 6, 7, 8]\n"
     ]
    }
   ],
   "source": [
    "t2 = (1,2,3,4,5,6,7,8)\n",
    "x = list(t2)\n",
    "print(x)"
   ]
  },
  {
   "cell_type": "markdown",
   "id": "71c109b2",
   "metadata": {},
   "source": [
    "# WAP to convert the given list into dictionary"
   ]
  },
  {
   "cell_type": "code",
   "execution_count": 27,
   "id": "3c2be035",
   "metadata": {},
   "outputs": [
    {
     "name": "stdout",
     "output_type": "stream",
     "text": [
      "{1: 'A', 2: 'B', 3: 'C', 4: 'D', 5: 'E'}\n"
     ]
    }
   ],
   "source": [
    "list1 = [1,2,3,4,5]\n",
    "list2 = ['A','B','C','D','E']\n",
    "d1 = dict(zip(list1,list2))\n",
    "print(d1)"
   ]
  },
  {
   "cell_type": "markdown",
   "id": "7083ae5b",
   "metadata": {},
   "source": [
    "# WAP to print keysfrom the given dictionary"
   ]
  },
  {
   "cell_type": "code",
   "execution_count": 28,
   "id": "f92a2ba9",
   "metadata": {},
   "outputs": [
    {
     "name": "stdout",
     "output_type": "stream",
     "text": [
      "dict_keys([1, 2, 3])\n"
     ]
    }
   ],
   "source": [
    "d1 = {1:\"apple\",2:\"Mango\",3:\"banana\",}\n",
    "print(d1.keys())"
   ]
  },
  {
   "cell_type": "markdown",
   "id": "18a98196",
   "metadata": {},
   "source": [
    "# WAP to print values from the given dictionary"
   ]
  },
  {
   "cell_type": "code",
   "execution_count": 33,
   "id": "53d63e72",
   "metadata": {},
   "outputs": [
    {
     "name": "stdout",
     "output_type": "stream",
     "text": [
      "dict_values(['Apple', 'Mango', 'Banana'])\n"
     ]
    }
   ],
   "source": [
    "d2 = {1:\"Apple\",2:\"Mango\",3:\"Banana\"}\n",
    "print(d2.values())"
   ]
  },
  {
   "cell_type": "code",
   "execution_count": null,
   "id": "50ade1a9",
   "metadata": {},
   "outputs": [],
   "source": []
  }
 ],
 "metadata": {
  "kernelspec": {
   "display_name": "Python 3 (ipykernel)",
   "language": "python",
   "name": "python3"
  },
  "language_info": {
   "codemirror_mode": {
    "name": "ipython",
    "version": 3
   },
   "file_extension": ".py",
   "mimetype": "text/x-python",
   "name": "python",
   "nbconvert_exporter": "python",
   "pygments_lexer": "ipython3",
   "version": "3.10.1"
  }
 },
 "nbformat": 4,
 "nbformat_minor": 5
}
