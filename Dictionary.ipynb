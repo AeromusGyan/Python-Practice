{
 "cells": [
  {
   "cell_type": "markdown",
   "id": "40d2cca7",
   "metadata": {},
   "source": [
    "# Creating a Dictionary"
   ]
  },
  {
   "cell_type": "code",
   "execution_count": 4,
   "id": "7e6d5cc4",
   "metadata": {},
   "outputs": [
    {
     "name": "stdout",
     "output_type": "stream",
     "text": [
      "<class 'dict'>\n",
      "{1: 'Apple', 2: 'Mango', 3: 'Orange', 'A': 'b', 4: 'Apple'}\n"
     ]
    }
   ],
   "source": [
    "d1 = {1:\"Apple\",2:\"Mango\",3:\"Orange\",'A':\"b\",4:\"Apple\"}\n",
    "print(type(d1))\n",
    "print(d1)"
   ]
  },
  {
   "cell_type": "markdown",
   "id": "61509362",
   "metadata": {},
   "source": [
    "# List into Dictionary"
   ]
  },
  {
   "cell_type": "code",
   "execution_count": 6,
   "id": "bc05c445",
   "metadata": {},
   "outputs": [
    {
     "name": "stdout",
     "output_type": "stream",
     "text": [
      "{1: 'Python', 2: 'Java', 'Fruits': ['Apple', 'Orange', 'Mango']}\n"
     ]
    }
   ],
   "source": [
    "#storing a list on a single key\n",
    "d2 = {1:\"Python\",2:\"Java\",\"Fruits\":[\"Apple\",\"Orange\",\"Mango\"]}\n",
    "print(d2)"
   ]
  },
  {
   "cell_type": "markdown",
   "id": "66628810",
   "metadata": {},
   "source": [
    "# Tuple into Dictionary"
   ]
  },
  {
   "cell_type": "code",
   "execution_count": 7,
   "id": "b86d5923",
   "metadata": {},
   "outputs": [
    {
     "name": "stdout",
     "output_type": "stream",
     "text": [
      "{1: 'Java', 2: 'Python', 'Language': ('Java', 'Python', 'Php')}\n"
     ]
    }
   ],
   "source": [
    "#storing A tuple into dictionary on a single key\n",
    "d3 = {1:\"Java\",2:\"Python\",'Language':(\"Java\",\"Python\",\"Php\")}\n",
    "print(d3)"
   ]
  },
  {
   "cell_type": "markdown",
   "id": "b085a0fa",
   "metadata": {},
   "source": [
    "# Access the value of dictionary"
   ]
  },
  {
   "cell_type": "code",
   "execution_count": 29,
   "id": "d3594dd9",
   "metadata": {},
   "outputs": [
    {
     "name": "stdout",
     "output_type": "stream",
     "text": [
      "Current Dict :  {1: 'Apple', 2: 'Mango', 3: 'Orange', 'A': 'b', 4: 'Apple'}\n",
      "Orange\n",
      "Apple\n",
      "dict_items([(1, 'Apple'), (2, 'Mango'), (3, 'Orange'), ('A', 'b'), (4, 'Apple')])\n",
      "dict_keys([1, 2, 3, 'A', 4])\n",
      "dict_values(['Apple', 'Mango', 'Orange', 'b', 'Apple'])\n"
     ]
    }
   ],
   "source": [
    "d1 = {1:\"Apple\",2:\"Mango\",3:\"Orange\",'A':\"b\",4:\"Apple\"}\n",
    "print(\"Current Dict : \",d1)\n",
    "\n",
    "# access the value using key\n",
    "x = d1[3]\n",
    "print(x)\n",
    "# access the value using get key\n",
    "y = d1.get(4)\n",
    "print(y)\n",
    "# access the value using item()\n",
    "z = d1.items()\n",
    "print(z)\n",
    "\n",
    "#access the only keys\n",
    "k = d1.keys()\n",
    "print(k)\n",
    "\n",
    "#access the only values\n",
    "v = d1.values()\n",
    "print(v)"
   ]
  },
  {
   "cell_type": "markdown",
   "id": "baa47378",
   "metadata": {},
   "source": [
    "# Change the value"
   ]
  },
  {
   "cell_type": "code",
   "execution_count": 19,
   "id": "836a3d76",
   "metadata": {},
   "outputs": [
    {
     "name": "stdout",
     "output_type": "stream",
     "text": [
      "Update Dict {1: 'Apple', 2: 'Mango', 3: 'Kivi', 'A': 'b', 4: 'Apple'}\n"
     ]
    }
   ],
   "source": [
    "d1 = {1:\"Apple\",2:\"Mango\",3:\"Orange\",'A':\"b\",4:\"Apple\"}\n",
    "d1[3]=\"Kivi\"\n",
    "print(\"Update Dict\",d1)\n"
   ]
  },
  {
   "cell_type": "code",
   "execution_count": 22,
   "id": "3a5dec92",
   "metadata": {},
   "outputs": [
    {
     "name": "stdout",
     "output_type": "stream",
     "text": [
      "Current Dict :  {1: 'Apple', 2: 'Mango', 3: 'Orange', 'A': 'b', 4: 'Apple'}\n",
      "Updated Dict :  {1: 'Apple', 2: 'Banana', 3: 'Orange', 'A': 'b', 4: 'Apple'}\n"
     ]
    }
   ],
   "source": [
    "# Update Dictionary by using update\n",
    "d1 = {1:\"Apple\",2:\"Mango\",3:\"Orange\",'A':\"b\",4:\"Apple\"}\n",
    "print(\"Current Dict : \",d1)\n",
    "d1.update({2:\"Banana\"})\n",
    "print(\"Updated Dict : \",d1)"
   ]
  },
  {
   "cell_type": "markdown",
   "id": "13ad01e4",
   "metadata": {},
   "source": [
    "# Remove Dictionary "
   ]
  },
  {
   "cell_type": "code",
   "execution_count": 27,
   "id": "c80f6d18",
   "metadata": {},
   "outputs": [
    {
     "name": "stdout",
     "output_type": "stream",
     "text": [
      "Current Dict :  {1: 'Apple', 2: 'Mango', 3: 'Orange', 'A': 'b', 4: 'Apple'}\n",
      "Updated Dict :  {1: 'Apple', 3: 'Orange', 'A': 'b', 4: 'Apple'}\n",
      "Update dict :  {3: 'Orange', 'A': 'b', 4: 'Apple'}\n",
      "{}\n"
     ]
    }
   ],
   "source": [
    "#from pop()\n",
    "d1 = {1:\"Apple\",2:\"Mango\",3:\"Orange\",'A':\"b\",4:\"Apple\"}\n",
    "print(\"Current Dict : \",d1)\n",
    "\n",
    "d1.pop(2)\n",
    "print(\"Updated Dict : \",d1)\n",
    "\n",
    "#using popitem()\n",
    "\n",
    "#d1.popitem()\n",
    "#print(\"Updated dict : \",d1)\n",
    "\n",
    "#uising del()\n",
    "del d1[1]\n",
    "print(\"Update dict : \",d1)\n",
    "\n",
    "#using clear()\n",
    "d1.clear()\n",
    "print(d1)"
   ]
  },
  {
   "cell_type": "code",
   "execution_count": null,
   "id": "725d85e7",
   "metadata": {},
   "outputs": [],
   "source": []
  }
 ],
 "metadata": {
  "kernelspec": {
   "display_name": "Python 3 (ipykernel)",
   "language": "python",
   "name": "python3"
  },
  "language_info": {
   "codemirror_mode": {
    "name": "ipython",
    "version": 3
   },
   "file_extension": ".py",
   "mimetype": "text/x-python",
   "name": "python",
   "nbconvert_exporter": "python",
   "pygments_lexer": "ipython3",
   "version": "3.10.1"
  }
 },
 "nbformat": 4,
 "nbformat_minor": 5
}
