{
 "cells": [
  {
   "cell_type": "markdown",
   "id": "3648fe10",
   "metadata": {},
   "source": [
    "# Odd Even Number"
   ]
  },
  {
   "cell_type": "code",
   "execution_count": 1,
   "id": "08a1fb68",
   "metadata": {},
   "outputs": [
    {
     "name": "stdout",
     "output_type": "stream",
     "text": [
      "Enter the number to check Odd or Even : 13\n",
      "13 is Odd Number\n"
     ]
    }
   ],
   "source": [
    "a = int(input(\"Enter the number to check Odd or Even : \"))\n",
    "\n",
    "if a%2==0:\n",
    "    print(a,\"is Even Number\")\n",
    "else:\n",
    "    print(a,\"is Odd Number\")"
   ]
  },
  {
   "cell_type": "markdown",
   "id": "5be6a49c",
   "metadata": {},
   "source": [
    "# Find Greater or Less Number\n"
   ]
  },
  {
   "cell_type": "code",
   "execution_count": 10,
   "id": "3a4ea869",
   "metadata": {},
   "outputs": [
    {
     "name": "stdout",
     "output_type": "stream",
     "text": [
      "Enter the 1st number15\n",
      "Enter the 2nd number30\n",
      "30  is Greater \n"
     ]
    }
   ],
   "source": [
    "a = int(input(\"Enter the 1st number\"))\n",
    "b = int(input(\"Enter the 2nd number\"))\n",
    "if a>b:\n",
    "    print(a,\" is Greater \")\n",
    "else:\n",
    "     print(b,\" is Greater \")"
   ]
  },
  {
   "cell_type": "markdown",
   "id": "71ac7a26",
   "metadata": {},
   "source": [
    "# Grade of given Number"
   ]
  },
  {
   "cell_type": "code",
   "execution_count": 12,
   "id": "967d0248",
   "metadata": {},
   "outputs": [
    {
     "name": "stdout",
     "output_type": "stream",
     "text": [
      "Enter Your Percentage70\n",
      "A+ Grade\n"
     ]
    }
   ],
   "source": [
    "p = int(input(\"Enter Your Percentage\"))\n",
    "if p>=70:\n",
    "    print(\"A+ Grade\")\n",
    "elif p>=65 and p<70:\n",
    "    print(\"A Grade\")\n",
    "elif p>=60 and p<65:\n",
    "    print(\"B Grade\")\n",
    "elif p>=55 and p<60:\n",
    "    print(\"C Grade\")\n",
    "else :\n",
    "    print(\"Fail\")"
   ]
  },
  {
   "cell_type": "markdown",
   "id": "6c461df2",
   "metadata": {},
   "source": [
    "# Generate value 1 to 10 using Loop"
   ]
  },
  {
   "cell_type": "code",
   "execution_count": 11,
   "id": "ee5d690c",
   "metadata": {
    "scrolled": true
   },
   "outputs": [
    {
     "name": "stdout",
     "output_type": "stream",
     "text": [
      "1\n",
      "2\n",
      "3\n",
      "4\n",
      "5\n",
      "6\n",
      "7\n",
      "8\n",
      "9\n",
      "10\n"
     ]
    }
   ],
   "source": [
    "\n",
    "for i in range(1,11):\n",
    "    print(i)"
   ]
  },
  {
   "cell_type": "markdown",
   "id": "7dda416e",
   "metadata": {},
   "source": [
    "# Generate value 10 to 1 using Loop"
   ]
  },
  {
   "cell_type": "code",
   "execution_count": 10,
   "id": "c4563922",
   "metadata": {
    "scrolled": true
   },
   "outputs": [
    {
     "name": "stdout",
     "output_type": "stream",
     "text": [
      "10\n",
      "9\n",
      "8\n",
      "7\n",
      "6\n",
      "5\n",
      "4\n",
      "3\n",
      "2\n",
      "1\n"
     ]
    }
   ],
   "source": [
    "for i in range(10,0,-1):\n",
    "    print(i)"
   ]
  },
  {
   "cell_type": "code",
   "execution_count": 14,
   "id": "55ee0ccd",
   "metadata": {},
   "outputs": [
    {
     "name": "stdout",
     "output_type": "stream",
     "text": [
      "\n",
      "*\n",
      "**\n",
      "***\n",
      "****\n",
      "*****\n"
     ]
    }
   ],
   "source": [
    "# *\n",
    "# **\n",
    "# ***\n",
    "# ****\n",
    "# *****\n",
    "for i in range(0,6):\n",
    "    for j in range(i):\n",
    "        print(\"*\",end=\"\")\n",
    "    print()"
   ]
  },
  {
   "cell_type": "code",
   "execution_count": 20,
   "id": "990f2c51",
   "metadata": {
    "scrolled": true
   },
   "outputs": [
    {
     "name": "stdout",
     "output_type": "stream",
     "text": [
      "1\n",
      "12\n",
      "123\n",
      "1234\n",
      "12345\n"
     ]
    }
   ],
   "source": [
    "# 1\n",
    "# 12\n",
    "# 123\n",
    "# 1234\n",
    "# 12345\n",
    "for i in range(1,6):\n",
    "    for j in range(i):\n",
    "        print(j+1,end=\"\")\n",
    "    print()"
   ]
  },
  {
   "cell_type": "markdown",
   "id": "2f9a7fbf",
   "metadata": {},
   "source": [
    "# Convert the string using uppercase() built in function "
   ]
  },
  {
   "cell_type": "code",
   "execution_count": null,
   "id": "f373303d",
   "metadata": {},
   "outputs": [],
   "source": []
  },
  {
   "cell_type": "code",
   "execution_count": 21,
   "id": "1212b115",
   "metadata": {},
   "outputs": [
    {
     "name": "stdout",
     "output_type": "stream",
     "text": [
      "HELLO PYTHON\n"
     ]
    }
   ],
   "source": [
    "str1 = \"hello python\"\n",
    "print(str1.upper())"
   ]
  },
  {
   "cell_type": "markdown",
   "id": "f78a1f70",
   "metadata": {},
   "source": [
    "# Convert the string using lowercase() built in function"
   ]
  },
  {
   "cell_type": "code",
   "execution_count": 22,
   "id": "ce298580",
   "metadata": {},
   "outputs": [
    {
     "name": "stdout",
     "output_type": "stream",
     "text": [
      "hello python\n"
     ]
    }
   ],
   "source": [
    "str1 = \"HELLO PYTHON\"\n",
    "print(str1.lower())"
   ]
  },
  {
   "cell_type": "markdown",
   "id": "0aa26f8c",
   "metadata": {},
   "source": [
    "# Check Vowel or Consonent"
   ]
  },
  {
   "cell_type": "code",
   "execution_count": 3,
   "id": "7571c1da",
   "metadata": {},
   "outputs": [
    {
     "name": "stdout",
     "output_type": "stream",
     "text": [
      "Enter Any Charactert\n",
      "t  is Constant\n"
     ]
    }
   ],
   "source": [
    "str1 = input(\"Enter Any Character\")\n",
    "if(str1=='a' or str1=='e'or str1=='i' or str1=='o' or str1=='u'):\n",
    "    print(str1,\" is Vowel\")\n",
    "else:\n",
    "    print(str1,\" is Constant\")"
   ]
  },
  {
   "cell_type": "markdown",
   "id": "c4703115",
   "metadata": {},
   "source": [
    "# Write a program to determine whether a person is eligible or not for vote if he is not elgible display how many years are left to be elgible"
   ]
  },
  {
   "cell_type": "code",
   "execution_count": 7,
   "id": "f81d9bc2",
   "metadata": {},
   "outputs": [
    {
     "name": "stdout",
     "output_type": "stream",
     "text": [
      "Enter your Age 15\n",
      "You Are Not eligible for vote \n",
      "Please try after 3  years\n"
     ]
    }
   ],
   "source": [
    "age = int(input(\"Enter your Age \"))\n",
    "\n",
    "if(age>=18):\n",
    "\n",
    "    print(\"you are elgible for vote\")\n",
    "else:\n",
    "    eg =18 - age\n",
    "    print(\"You Are Not eligible for vote \")\n",
    "    print(\"Please try after\",eg,\" years\")"
   ]
  },
  {
   "cell_type": "markdown",
   "id": "55c337f1",
   "metadata": {},
   "source": [
    "# WAP to get five subject marks of a student and print total and average only when the student has passed in all the subject(marks>50)"
   ]
  },
  {
   "cell_type": "code",
   "execution_count": 11,
   "id": "711279fd",
   "metadata": {},
   "outputs": [
    {
     "name": "stdout",
     "output_type": "stream",
     "text": [
      "Enter the marks of math 12\n",
      "Enter the marks of Physics 50\n",
      "Enter the marks of Chemistry 31\n",
      "Enter the marks of Python 51\n",
      "Enter the marks of TOFl 55\n",
      "Average =  39.8\n",
      "You are Passed in all Subject !\n"
     ]
    }
   ],
   "source": [
    "math = int(input(\"Enter the marks of math \"))\n",
    "py = int(input(\"Enter the marks of Physics \"))\n",
    "ch = int(input(\"Enter the marks of Chemistry \"))\n",
    "python = int(input(\"Enter the marks of Python \"))\n",
    "tofl = int(input(\"Enter the marks of TOFl \"))\n",
    "if(math and py and ch and python and tofl)>50:\n",
    "    avg = (math+py+ch+python+tofl)/5\n",
    "    print(\"Average = \",avg)\n",
    "    print(\"You are Passed in all Subject !\")\n",
    "else:\n",
    "    print(\"Fail\")"
   ]
  },
  {
   "cell_type": "code",
   "execution_count": null,
   "id": "d181f7e7",
   "metadata": {},
   "outputs": [],
   "source": []
  }
 ],
 "metadata": {
  "kernelspec": {
   "display_name": "Python 3 (ipykernel)",
   "language": "python",
   "name": "python3"
  },
  "language_info": {
   "codemirror_mode": {
    "name": "ipython",
    "version": 3
   },
   "file_extension": ".py",
   "mimetype": "text/x-python",
   "name": "python",
   "nbconvert_exporter": "python",
   "pygments_lexer": "ipython3",
   "version": "3.10.1"
  }
 },
 "nbformat": 4,
 "nbformat_minor": 5
}
