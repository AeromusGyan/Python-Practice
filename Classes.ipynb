{
 "cells": [
  {
   "cell_type": "markdown",
   "id": "e0b0ea25",
   "metadata": {},
   "source": [
    "# how to create a class"
   ]
  },
  {
   "cell_type": "code",
   "execution_count": 1,
   "id": "200d3c87",
   "metadata": {},
   "outputs": [
    {
     "name": "stdout",
     "output_type": "stream",
     "text": [
      "<class '__main__.myclass'>\n"
     ]
    }
   ],
   "source": [
    "class myclass:\n",
    "    x = 5 #property of class\n",
    "    \n",
    "print(myclass)"
   ]
  },
  {
   "cell_type": "markdown",
   "id": "1993a8ae",
   "metadata": {},
   "source": [
    "# how to create object?"
   ]
  },
  {
   "cell_type": "code",
   "execution_count": null,
   "id": "93429083",
   "metadata": {},
   "outputs": [],
   "source": [
    "class myclass:\n",
    "    x = 5 #property of class\n",
    "    \n",
    "# creating object of myclass\n",
    "m1 = myclass() # m1 is an object of class myclass\n",
    "print(m1.x)"
   ]
  },
  {
   "cell_type": "markdown",
   "id": "58c267be",
   "metadata": {},
   "source": [
    "# Calling a function by object"
   ]
  },
  {
   "cell_type": "code",
   "execution_count": 11,
   "id": "19d5a7c8",
   "metadata": {},
   "outputs": [
    {
     "name": "stdout",
     "output_type": "stream",
     "text": [
      "Hello myfunction\n"
     ]
    }
   ],
   "source": [
    "class myclass:\n",
    "    def myFunction(self): # Property of myclass\n",
    "        print(\"Hello myfunction\")\n",
    "# Creating an object\n",
    "m1 = myclass()\n",
    "m1.myFunction()"
   ]
  },
  {
   "cell_type": "markdown",
   "id": "ae62f142",
   "metadata": {},
   "source": [
    "# how to create constructor"
   ]
  },
  {
   "cell_type": "code",
   "execution_count": 18,
   "id": "ee39c07f",
   "metadata": {},
   "outputs": [
    {
     "name": "stdout",
     "output_type": "stream",
     "text": [
      "This is my Constructor\n"
     ]
    }
   ],
   "source": [
    "class myclass:\n",
    "    #creating a constructor\n",
    "    def __init__(self):\n",
    "        print(\"This is my Constructor\")\n",
    "        \n",
    "#creating an object\n",
    "m1 = myclass()\n"
   ]
  },
  {
   "cell_type": "markdown",
   "id": "fb5cd5db",
   "metadata": {},
   "source": [
    "# change the value by object"
   ]
  },
  {
   "cell_type": "code",
   "execution_count": 24,
   "id": "64a7605b",
   "metadata": {},
   "outputs": [
    {
     "name": "stdout",
     "output_type": "stream",
     "text": [
      "Age : 25\n"
     ]
    },
    {
     "ename": "AttributeError",
     "evalue": "'myclass' object has no attribute 'age'",
     "output_type": "error",
     "traceback": [
      "\u001b[1;31m---------------------------------------------------------------------------\u001b[0m",
      "\u001b[1;31mAttributeError\u001b[0m                            Traceback (most recent call last)",
      "Input \u001b[1;32mIn [24]\u001b[0m, in \u001b[0;36m<cell line: 20>\u001b[1;34m()\u001b[0m\n\u001b[0;32m     17\u001b[0m \u001b[38;5;66;03m# Delete the object\u001b[39;00m\n\u001b[0;32m     19\u001b[0m \u001b[38;5;28;01mdel\u001b[39;00m m1\u001b[38;5;241m.\u001b[39mage\n\u001b[1;32m---> 20\u001b[0m \u001b[38;5;28mprint\u001b[39m(\u001b[38;5;124m\"\u001b[39m\u001b[38;5;124mAge :\u001b[39m\u001b[38;5;124m\"\u001b[39m,\u001b[43mm1\u001b[49m\u001b[38;5;241;43m.\u001b[39;49m\u001b[43mage\u001b[49m)\n",
      "\u001b[1;31mAttributeError\u001b[0m: 'myclass' object has no attribute 'age'"
     ]
    }
   ],
   "source": [
    "class myclass:\n",
    "    def __init__(self,name,age):\n",
    "        self.name = name\n",
    "        self.age = age\n",
    "    def myfunc(self):\n",
    "        print(\"My name is :\",self.name)\n",
    "        print(\"My age is :\",self.age)\n",
    "#creating an object\n",
    "m1 = myclass(\"Gyan\",20)\n",
    "m1.name\n",
    "m1.age\n",
    "\n",
    "# changing the age using object\n",
    "m1.age = 25\n",
    "print(\"Age :\",m1.age)\n",
    "\n",
    "# Delete the object\n",
    "\n",
    "del m1.age\n",
    "print(\"Age :\",m1.age)"
   ]
  },
  {
   "cell_type": "code",
   "execution_count": null,
   "id": "6a5ca35b",
   "metadata": {},
   "outputs": [],
   "source": []
  }
 ],
 "metadata": {
  "kernelspec": {
   "display_name": "Python 3 (ipykernel)",
   "language": "python",
   "name": "python3"
  },
  "language_info": {
   "codemirror_mode": {
    "name": "ipython",
    "version": 3
   },
   "file_extension": ".py",
   "mimetype": "text/x-python",
   "name": "python",
   "nbconvert_exporter": "python",
   "pygments_lexer": "ipython3",
   "version": "3.10.1"
  }
 },
 "nbformat": 4,
 "nbformat_minor": 5
}
