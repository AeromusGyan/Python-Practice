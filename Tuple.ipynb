{
 "cells": [
  {
   "cell_type": "markdown",
   "id": "d8026201",
   "metadata": {},
   "source": [
    "# Create tuple"
   ]
  },
  {
   "cell_type": "code",
   "execution_count": 2,
   "id": "d28fb5df",
   "metadata": {},
   "outputs": [
    {
     "name": "stdout",
     "output_type": "stream",
     "text": [
      "Current Tuple ('Apple', 'Orange', 'Cherry', 1, 2, 3, 4, 5, 10, 5, 5, 4)\n"
     ]
    }
   ],
   "source": [
    "# creating a tuple\n",
    "t1 = (\"Apple\",\"Orange\",\"Cherry\",1,2,3,4,5,10,5,5,4)\n",
    "print(\"Current Tuple\",t1)"
   ]
  },
  {
   "cell_type": "markdown",
   "id": "d13e648b",
   "metadata": {},
   "source": [
    "# How to check lenght of tuple"
   ]
  },
  {
   "cell_type": "code",
   "execution_count": 3,
   "id": "03a519d5",
   "metadata": {},
   "outputs": [
    {
     "name": "stdout",
     "output_type": "stream",
     "text": [
      "length 6\n"
     ]
    }
   ],
   "source": [
    "t1 = (1,2,3,4,5,10)\n",
    "print(\"length\",len(t1))"
   ]
  },
  {
   "cell_type": "markdown",
   "id": "99da6115",
   "metadata": {},
   "source": [
    "# Indexing And Slicing"
   ]
  },
  {
   "cell_type": "code",
   "execution_count": 8,
   "id": "455dd69a",
   "metadata": {},
   "outputs": [
    {
     "name": "stdout",
     "output_type": "stream",
     "text": [
      "Current Tuple ('Apple', 'Orange', 'Cherry', 1, 2, 3, 4, 5, 10, 5, 5, 4)\n",
      "Index 1 Value Orange\n",
      "Index between 1 to 6 ('Orange', 'Cherry', 1, 2, 3)\n",
      "Value from last 4\n",
      "Value till index 6 ('Apple', 'Orange', 'Cherry', 1, 2, 3)\n"
     ]
    }
   ],
   "source": [
    "t1 = (\"Apple\",\"Orange\",\"Cherry\",1,2,3,4,5,10,5,5,4)\n",
    "print(\"Current Tuple\",t1)\n",
    "# accesing the value using index\n",
    "print(\"Index 1 Value\",t1[1])\n",
    "#accesing the value using index between 1 to 6\n",
    "print(\"Index between 1 to 6\",t1[1:6])\n",
    "#Access the value from last tuple\n",
    "\n",
    "print(\"Value from last\",t1[-1])\n",
    "\n",
    "# Access the value till index 6\n",
    "print(\"Value till index 6\",t1[:6])"
   ]
  },
  {
   "cell_type": "markdown",
   "id": "27bb919c",
   "metadata": {},
   "source": [
    "# Convert tuple into list"
   ]
  },
  {
   "cell_type": "code",
   "execution_count": 9,
   "id": "a1299747",
   "metadata": {},
   "outputs": [
    {
     "name": "stdout",
     "output_type": "stream",
     "text": [
      "Current Tuple ('Apple', 'Orange', 'Cherry', 1, 2, 3, 4, 5, 10, 5, 5, 4)\n",
      "Update:  ['Apple', 'Orange', 'Cherry', 1, 2, 3, 4, 5, 10, 5, 5, 4]\n"
     ]
    }
   ],
   "source": [
    "t1 = (\"Apple\",\"Orange\",\"Cherry\",1,2,3,4,5,10,5,5,4)\n",
    "print(\"Current Tuple\",t1)\n",
    "# Before change\n",
    "x = list(t1)\n",
    "print(\"Update: \",x)"
   ]
  },
  {
   "cell_type": "markdown",
   "id": "e72e7581",
   "metadata": {},
   "source": [
    "# tuple constructor"
   ]
  },
  {
   "cell_type": "code",
   "execution_count": 10,
   "id": "72785558",
   "metadata": {},
   "outputs": [
    {
     "name": "stdout",
     "output_type": "stream",
     "text": [
      "('Mango', 'Cherry', 'Banana')\n"
     ]
    }
   ],
   "source": [
    "t3 = tuple((\"Mango\",\"Cherry\",\"Banana\"))\n",
    "print(t3)"
   ]
  },
  {
   "cell_type": "markdown",
   "id": "9970deb4",
   "metadata": {},
   "source": [
    "# add item after converting tuple into list"
   ]
  },
  {
   "cell_type": "code",
   "execution_count": 12,
   "id": "e474c48c",
   "metadata": {},
   "outputs": [
    {
     "name": "stdout",
     "output_type": "stream",
     "text": [
      "Current Tuple ('Apple', 'Orange', 'Cherry', 1, 2, 3, 4, 5, 10, 5, 5, 4)\n",
      "Update:  ['Apple', 'Orange', 'Cherry', 1, 2, 3, 4, 5, 10, 5, 5, 4]\n",
      "Updated List ['Apple', 'Kivi', 'Cherry', 1, 2, 3, 4, 5, 10, 5, 5, 4]\n",
      "List into tuple ('Apple', 'Kivi', 'Cherry', 1, 2, 3, 4, 5, 10, 5, 5, 4)\n"
     ]
    }
   ],
   "source": [
    "t1 = (\"Apple\",\"Orange\",\"Cherry\",1,2,3,4,5,10,5,5,4)\n",
    "print(\"Current Tuple\",t1)\n",
    "# Before change\n",
    "x = list(t1)\n",
    "print(\"Update: \",x)\n",
    "\n",
    "# add item into list\n",
    "x[1]=\"Kivi\"\n",
    "print(\"Updated List\",x)\n",
    "# Convert List into tuple\n",
    "y = tuple(x)\n",
    "\n",
    "print(\"List into tuple\",y)"
   ]
  },
  {
   "cell_type": "markdown",
   "id": "cbd49dc6",
   "metadata": {},
   "source": [
    "# Loops for tuple"
   ]
  },
  {
   "cell_type": "code",
   "execution_count": 20,
   "id": "1c46e2db",
   "metadata": {},
   "outputs": [
    {
     "name": "stdout",
     "output_type": "stream",
     "text": [
      "Apple\n",
      "Orange\n",
      "Cherry\n",
      "Kivi\n",
      "Apple, Orange, Cherry, Kivi, Loop finish\n"
     ]
    }
   ],
   "source": [
    "# for loop with tuple\n",
    "t5 = (\"Apple\",\"Orange\",\"Cherry\",\"Kivi\")\n",
    "for i in t5:\n",
    "    print(i)\n",
    "\n",
    "# while loop with tuple\n",
    "t5 = (\"Apple\",\"Orange\",\"Cherry\",\"Kivi\")\n",
    "i =0\n",
    "while i<len(t5):\n",
    "    print(t5[i], end=\", \")\n",
    "    i=i+1\n",
    "else:\n",
    "    print(\"Loop finish\")"
   ]
  },
  {
   "cell_type": "markdown",
   "id": "48244c8d",
   "metadata": {},
   "source": [
    "# How to compare tuples"
   ]
  },
  {
   "cell_type": "code",
   "execution_count": 23,
   "id": "d36d5200",
   "metadata": {},
   "outputs": [
    {
     "name": "stdout",
     "output_type": "stream",
     "text": [
      "False\n",
      "True\n",
      "False\n"
     ]
    }
   ],
   "source": [
    "t1 = (1,2,3)\n",
    "t2 = (1,2,4)\n",
    "# tuple 1 is equal to tuple 2\n",
    "print(t1==t2)\n",
    "# tuple1 is lessthan from tuple 2\n",
    "print(t1<t2)\n",
    "# tuple1 is greater than from tuple 2\n",
    "print(t1>t2)"
   ]
  },
  {
   "cell_type": "code",
   "execution_count": null,
   "id": "d822c0c6",
   "metadata": {},
   "outputs": [],
   "source": []
  }
 ],
 "metadata": {
  "kernelspec": {
   "display_name": "Python 3 (ipykernel)",
   "language": "python",
   "name": "python3"
  },
  "language_info": {
   "codemirror_mode": {
    "name": "ipython",
    "version": 3
   },
   "file_extension": ".py",
   "mimetype": "text/x-python",
   "name": "python",
   "nbconvert_exporter": "python",
   "pygments_lexer": "ipython3",
   "version": "3.10.1"
  }
 },
 "nbformat": 4,
 "nbformat_minor": 5
}
