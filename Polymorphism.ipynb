{
 "cells": [
  {
   "cell_type": "markdown",
   "id": "43389f59",
   "metadata": {},
   "source": [
    "# Method overloading"
   ]
  },
  {
   "cell_type": "code",
   "execution_count": 4,
   "id": "b635eb43",
   "metadata": {},
   "outputs": [
    {
     "ename": "TypeError",
     "evalue": "MO.myfunc() missing 1 required positional argument: 'b'",
     "output_type": "error",
     "traceback": [
      "\u001b[1;31m---------------------------------------------------------------------------\u001b[0m",
      "\u001b[1;31mTypeError\u001b[0m                                 Traceback (most recent call last)",
      "Input \u001b[1;32mIn [4]\u001b[0m, in \u001b[0;36m<cell line: 11>\u001b[1;34m()\u001b[0m\n\u001b[0;32m      9\u001b[0m \u001b[38;5;66;03m# creating an object of Class MO\u001b[39;00m\n\u001b[0;32m     10\u001b[0m m \u001b[38;5;241m=\u001b[39m MO()\n\u001b[1;32m---> 11\u001b[0m \u001b[43mm\u001b[49m\u001b[38;5;241;43m.\u001b[39;49m\u001b[43mmyfunc\u001b[49m\u001b[43m(\u001b[49m\u001b[38;5;241;43m10\u001b[39;49m\u001b[43m)\u001b[49m\n",
      "\u001b[1;31mTypeError\u001b[0m: MO.myfunc() missing 1 required positional argument: 'b'"
     ]
    }
   ],
   "source": [
    "class MO:\n",
    "    def myfunc(self): #no argument\n",
    "        print(\"Function with no argument\")\n",
    "    def myfunc(self,a): #one argument\n",
    "        print(\"Function with one argument\")\n",
    "    def myfunc(self,a,b): #two argument\n",
    "        print(\"Function with two argument\")\n",
    "        \n",
    "# creating an object of Class MO\n",
    "m = MO()\n",
    "m.myfunc(10)\n",
    "\n",
    "# Method overloading is not supported in python because python is interpreted language\n"
   ]
  },
  {
   "cell_type": "markdown",
   "id": "9af9b42f",
   "metadata": {},
   "source": [
    "# Method Overriding"
   ]
  },
  {
   "cell_type": "code",
   "execution_count": 6,
   "id": "81a49b29",
   "metadata": {},
   "outputs": [
    {
     "name": "stdout",
     "output_type": "stream",
     "text": [
      "Class MO3 is called\n",
      "Class MO2 is called\n",
      "Class MO1 is called\n"
     ]
    }
   ],
   "source": [
    "class MO1:  #Parent class\n",
    "    def myfunc(self,a):\n",
    "        print(\"Class MO1 is called\")\n",
    "        \n",
    "class MO2(MO1):  #Child class\n",
    "    def myfunc(self,a):\n",
    "        print(\"Class MO2 is called\")\n",
    "        # Super method calling of class MO1\n",
    "        super().myfunc(10)\n",
    "class MO3(MO2):  #Child class\n",
    "    def myfunc(self,a):\n",
    "        print(\"Class MO3 is called\")\n",
    "        # Super method calling of class MO2\n",
    "        super().myfunc(10)\n",
    "# creating an object of class MO3\n",
    "\n",
    "m = MO3()  #object of MO3\n",
    "m.myfunc(10)"
   ]
  },
  {
   "cell_type": "code",
   "execution_count": null,
   "id": "28a8a53d",
   "metadata": {},
   "outputs": [],
   "source": []
  }
 ],
 "metadata": {
  "kernelspec": {
   "display_name": "Python 3 (ipykernel)",
   "language": "python",
   "name": "python3"
  },
  "language_info": {
   "codemirror_mode": {
    "name": "ipython",
    "version": 3
   },
   "file_extension": ".py",
   "mimetype": "text/x-python",
   "name": "python",
   "nbconvert_exporter": "python",
   "pygments_lexer": "ipython3",
   "version": "3.10.1"
  }
 },
 "nbformat": 4,
 "nbformat_minor": 5
}
