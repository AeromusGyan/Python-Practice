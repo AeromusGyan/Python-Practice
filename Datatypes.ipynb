{
 "cells": [
  {
   "cell_type": "markdown",
   "id": "946dee56",
   "metadata": {},
   "source": [
    "# Numeric Datatypes\n",
    "\n",
    "\n"
   ]
  },
  {
   "cell_type": "code",
   "execution_count": 3,
   "id": "09452016",
   "metadata": {},
   "outputs": [
    {
     "name": "stdout",
     "output_type": "stream",
     "text": [
      "<class 'int'>\n",
      "<class 'float'>\n",
      "<class 'complex'>\n"
     ]
    }
   ],
   "source": [
    "# Int Datatype\n",
    "\n",
    "a=10\n",
    "print(type(a))\n",
    "\n",
    "# Float datatype\n",
    "b= 120.21\n",
    "print(type(b))\n",
    "\n",
    "# Complex\n",
    "c = 10+4j\n",
    "print(type(c))\n"
   ]
  },
  {
   "cell_type": "markdown",
   "id": "8bbef5ad",
   "metadata": {},
   "source": [
    "# Boolean Datatype"
   ]
  },
  {
   "cell_type": "code",
   "execution_count": 5,
   "id": "832cf4a8",
   "metadata": {},
   "outputs": [
    {
     "name": "stdout",
     "output_type": "stream",
     "text": [
      "<class 'bool'>\n",
      "<class 'bool'>\n"
     ]
    }
   ],
   "source": [
    "d = True\n",
    "print(type(d))\n",
    "\n",
    "e = False\n",
    "print(type(e))"
   ]
  },
  {
   "cell_type": "markdown",
   "id": "c7e67f85",
   "metadata": {},
   "source": [
    "# Set Datatype"
   ]
  },
  {
   "cell_type": "code",
   "execution_count": 6,
   "id": "cbcb7730",
   "metadata": {},
   "outputs": [
    {
     "name": "stdout",
     "output_type": "stream",
     "text": [
      "<class 'set'>\n"
     ]
    }
   ],
   "source": [
    "f = {'a','b','c','d'}\n",
    "\n",
    "print(type(f))"
   ]
  },
  {
   "cell_type": "markdown",
   "id": "e81ae73e",
   "metadata": {},
   "source": [
    "# Dictionary Datatype"
   ]
  },
  {
   "cell_type": "code",
   "execution_count": 7,
   "id": "6e6903ac",
   "metadata": {},
   "outputs": [
    {
     "name": "stdout",
     "output_type": "stream",
     "text": [
      "<class 'dict'>\n"
     ]
    }
   ],
   "source": [
    "x = {\"key\":\"value\"}\n",
    "\n",
    "print(type(x))"
   ]
  },
  {
   "cell_type": "markdown",
   "id": "972d93e3",
   "metadata": {},
   "source": [
    "# Sequence Datatype"
   ]
  },
  {
   "cell_type": "code",
   "execution_count": 11,
   "id": "9cef6e79",
   "metadata": {},
   "outputs": [
    {
     "name": "stdout",
     "output_type": "stream",
     "text": [
      "<class 'list'>\n",
      "<class 'str'>\n",
      "<class 'tuple'>\n"
     ]
    }
   ],
   "source": [
    "#List Datatype\n",
    "l1 = [1,2,3,4,5]\n",
    "\n",
    "print(type(l1))\n",
    "\n",
    "# String Datatype\n",
    "\n",
    "y = \"Python Program\"\n",
    "\n",
    "print(type(y))\n",
    "\n",
    "# Tuple Datatype\n",
    "z = (1,2,3,4,5)\n",
    "print(type(z))"
   ]
  },
  {
   "cell_type": "code",
   "execution_count": 1,
   "id": "eacdc40d",
   "metadata": {},
   "outputs": [
    {
     "name": "stdout",
     "output_type": "stream",
     "text": [
      "390625\n"
     ]
    }
   ],
   "source": [
    "print(5**8)"
   ]
  },
  {
   "cell_type": "code",
   "execution_count": null,
   "id": "c427f237",
   "metadata": {},
   "outputs": [],
   "source": []
  },
  {
   "cell_type": "code",
   "execution_count": null,
   "id": "f9d39b2a",
   "metadata": {},
   "outputs": [],
   "source": []
  }
 ],
 "metadata": {
  "kernelspec": {
   "display_name": "Python 3 (ipykernel)",
   "language": "python",
   "name": "python3"
  },
  "language_info": {
   "codemirror_mode": {
    "name": "ipython",
    "version": 3
   },
   "file_extension": ".py",
   "mimetype": "text/x-python",
   "name": "python",
   "nbconvert_exporter": "python",
   "pygments_lexer": "ipython3",
   "version": "3.10.1"
  }
 },
 "nbformat": 4,
 "nbformat_minor": 5
}
