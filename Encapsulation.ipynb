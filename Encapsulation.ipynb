{
 "cells": [
  {
   "cell_type": "markdown",
   "id": "4aec1632",
   "metadata": {},
   "source": [
    "# Acheiving encapsulation by private"
   ]
  },
  {
   "cell_type": "code",
   "execution_count": 6,
   "id": "eeccac9c",
   "metadata": {},
   "outputs": [
    {
     "ename": "AttributeError",
     "evalue": "'B' object has no attribute '_B__a'",
     "output_type": "error",
     "traceback": [
      "\u001b[1;31m---------------------------------------------------------------------------\u001b[0m",
      "\u001b[1;31mAttributeError\u001b[0m                            Traceback (most recent call last)",
      "Input \u001b[1;32mIn [6]\u001b[0m, in \u001b[0;36m<cell line: 18>\u001b[1;34m()\u001b[0m\n\u001b[0;32m     15\u001b[0m \u001b[38;5;66;03m# creating an object of class B\u001b[39;00m\n\u001b[0;32m     17\u001b[0m obj \u001b[38;5;241m=\u001b[39m B(\u001b[38;5;241m20\u001b[39m)\n\u001b[1;32m---> 18\u001b[0m \u001b[43mobj\u001b[49m\u001b[38;5;241;43m.\u001b[39;49m\u001b[43mshowB\u001b[49m\u001b[43m(\u001b[49m\u001b[43m)\u001b[49m\n",
      "Input \u001b[1;32mIn [6]\u001b[0m, in \u001b[0;36mB.showB\u001b[1;34m(self)\u001b[0m\n\u001b[0;32m     12\u001b[0m \u001b[38;5;28;01mdef\u001b[39;00m \u001b[38;5;21mshowB\u001b[39m(\u001b[38;5;28mself\u001b[39m):\n\u001b[1;32m---> 13\u001b[0m     \u001b[38;5;28mprint\u001b[39m(\u001b[38;5;28;43mself\u001b[39;49m\u001b[38;5;241;43m.\u001b[39;49m\u001b[43m__a\u001b[49m)\n",
      "\u001b[1;31mAttributeError\u001b[0m: 'B' object has no attribute '_B__a'"
     ]
    }
   ],
   "source": [
    "class A:  #parent calss\n",
    "    def __init__(self,a):\n",
    "        self.__a=a  #a is private variable\n",
    "        \n",
    "    def show(self):\n",
    "        #print a private var using function\n",
    "        print(\"Private variable : \",self.__a)  #a is private variable\n",
    "        \n",
    "class B(A):   #child calss\n",
    "    def __init__(self,b):\n",
    "        super().__init__(b)\n",
    "    def showB(self):\n",
    "        print(self.__a)\n",
    "        \n",
    "# creating an object of class B\n",
    "\n",
    "obj = B(20)\n",
    "obj.showB()"
   ]
  },
  {
   "cell_type": "markdown",
   "id": "68676cb5",
   "metadata": {},
   "source": [
    "# Acheiving encapsulation by private\n"
   ]
  },
  {
   "cell_type": "code",
   "execution_count": 5,
   "id": "ee944715",
   "metadata": {},
   "outputs": [
    {
     "name": "stdout",
     "output_type": "stream",
     "text": [
      "Variable value 20\n"
     ]
    }
   ],
   "source": [
    "class A:  #parent calss\n",
    "    def __init__(self,a):\n",
    "        self._a=a  #this var a is a protected variable\n",
    "        \n",
    "    def show(self):\n",
    "        #print a private var using function\n",
    "        print(\"Protected variable : \",self._a)  #a is private variable\n",
    "        \n",
    "class B(A):   #child calss\n",
    "    def __init__(self,b):\n",
    "        super().__init__(b)\n",
    "    def showB(self):\n",
    "        print(\"Variable value\",self._a)\n",
    "        \n",
    "# creating an object of class B\n",
    "\n",
    "obj = B(20)\n",
    "obj.showB()"
   ]
  },
  {
   "cell_type": "code",
   "execution_count": null,
   "id": "b1626cbc",
   "metadata": {},
   "outputs": [],
   "source": []
  }
 ],
 "metadata": {
  "kernelspec": {
   "display_name": "Python 3 (ipykernel)",
   "language": "python",
   "name": "python3"
  },
  "language_info": {
   "codemirror_mode": {
    "name": "ipython",
    "version": 3
   },
   "file_extension": ".py",
   "mimetype": "text/x-python",
   "name": "python",
   "nbconvert_exporter": "python",
   "pygments_lexer": "ipython3",
   "version": "3.10.1"
  }
 },
 "nbformat": 4,
 "nbformat_minor": 5
}
