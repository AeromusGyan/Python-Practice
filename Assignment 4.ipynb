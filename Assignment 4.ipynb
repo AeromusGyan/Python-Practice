{
 "cells": [
  {
   "cell_type": "markdown",
   "id": "27b3697e",
   "metadata": {},
   "source": [
    "# Create a function that can accept  two arguments Name and Subject and print value"
   ]
  },
  {
   "cell_type": "code",
   "execution_count": 5,
   "id": "86e14498",
   "metadata": {},
   "outputs": [
    {
     "name": "stdout",
     "output_type": "stream",
     "text": [
      "Name : Gyan Prakash\n",
      "Subject : Python\n"
     ]
    }
   ],
   "source": [
    "def myFunc(name,sub):\n",
    "    print(\"Name :\",name)\n",
    "    print(\"Subject :\",sub)\n",
    "n = \"Gyan Prakash\"\n",
    "s = \"Python\"\n",
    "myFunc(n,s)"
   ]
  },
  {
   "cell_type": "markdown",
   "id": "c1d60bfb",
   "metadata": {},
   "source": [
    "# WA Function sum() such that it can accept two number arguments and print the sum of two arguments"
   ]
  },
  {
   "cell_type": "code",
   "execution_count": 7,
   "id": "7470ecd9",
   "metadata": {},
   "outputs": [
    {
     "name": "stdout",
     "output_type": "stream",
     "text": [
      "Enter first number 15\n",
      "Enter second number 115\n",
      "Sum : 130\n"
     ]
    }
   ],
   "source": [
    "def Sum(a,b):\n",
    "    s = a+b\n",
    "    print(\"Sum :\",s)\n",
    "num1 = int(input(\"Enter first number \"))\n",
    "num2 = int(input(\"Enter second number \"))\n",
    "Sum(num1,num2)"
   ]
  },
  {
   "cell_type": "markdown",
   "id": "f30abb2d",
   "metadata": {},
   "source": [
    "# WA Function Calculation() such that it accept two variable and calculate the addition, subtraction And division"
   ]
  },
  {
   "cell_type": "code",
   "execution_count": null,
   "id": "1e729f59",
   "metadata": {},
   "outputs": [],
   "source": [
    "def calculation(a,b):\n",
    "    s = a+b\n",
    "    print(\"Sum :\",s)\n",
    "    s = a-b\n",
    "    print(\"Subtraction :\",s)\n",
    "    s = a/b\n",
    "    print(\"Division :\",s)\n",
    "num1 = int(input(\"Enter first number \"))\n",
    "num2 = int(input(\"Enter second number \"))\n",
    "calculation(num1,num2)"
   ]
  },
  {
   "cell_type": "markdown",
   "id": "d01bb4f7",
   "metadata": {},
   "source": [
    "# WA Recursive function to calculate the sum of number 0 to 10"
   ]
  },
  {
   "cell_type": "code",
   "execution_count": 4,
   "id": "7c3b0e13",
   "metadata": {},
   "outputs": [
    {
     "name": "stdout",
     "output_type": "stream",
     "text": [
      "Enter the limit between 0 to : 10\n",
      "The Sum of between 0 to Limit is : 55\n"
     ]
    }
   ],
   "source": [
    "\n",
    "def myFunc2(x,l):\n",
    "    if x<=l:\n",
    "        return (x+myFunc2(x+1,l))\n",
    "    else:\n",
    "        return 0\n",
    "    \n",
    "num = 0\n",
    "limit = int(input(\"Enter the limit between 0 to : \"))\n",
    "print(\"The Sum of between 0 to Limit is :\",myFunc2(num,limit))"
   ]
  },
  {
   "cell_type": "markdown",
   "id": "f604fc8f",
   "metadata": {},
   "source": [
    "# Create a Function without any name that can accept two arguments and then print sum of it s value"
   ]
  },
  {
   "cell_type": "code",
   "execution_count": 6,
   "id": "3fb95489",
   "metadata": {},
   "outputs": [
    {
     "name": "stdout",
     "output_type": "stream",
     "text": [
      "Enter 1st number : 15\n",
      "Enter 2nd number : 5\n",
      "Sum : 20\n"
     ]
    }
   ],
   "source": [
    "\n",
    "y = lambda a,b :a+b\n",
    "\n",
    "num1 = int(input(\"Enter 1st number : \"))\n",
    "num2 = int(input(\"Enter 2nd number : \"))\n",
    "print(\"Sum :\",y(num1,num2))"
   ]
  },
  {
   "cell_type": "markdown",
   "id": "0b22fb81",
   "metadata": {},
   "source": [
    "# WAP to generate a random number between 1000 to 5000 using python inbuilt module"
   ]
  },
  {
   "cell_type": "code",
   "execution_count": 45,
   "id": "c9892fa7",
   "metadata": {},
   "outputs": [
    {
     "name": "stdout",
     "output_type": "stream",
     "text": [
      "3525\n"
     ]
    }
   ],
   "source": [
    "from random import randint\n",
    "num = randint(1000,5000)\n",
    "print(num)"
   ]
  },
  {
   "cell_type": "markdown",
   "id": "8769fd0c",
   "metadata": {},
   "source": [
    "# WAP to generate random captcha list using python inbuilt module"
   ]
  },
  {
   "cell_type": "code",
   "execution_count": 46,
   "id": "3916260c",
   "metadata": {},
   "outputs": [
    {
     "name": "stdout",
     "output_type": "stream",
     "text": [
      "[66109, 53485, 59253, 21980, 77321, 95283, 23466, 27355, 59035, 83616]\n"
     ]
    }
   ],
   "source": [
    "from random import randint\n",
    "list = []\n",
    "for i in range (10):\n",
    "    x = randint(10000,99999)\n",
    "    list.insert(i,x)\n",
    "print(list)"
   ]
  },
  {
   "cell_type": "markdown",
   "id": "8ba2b095",
   "metadata": {},
   "source": [
    "# WAP to shuffle a captcha list using python inbuilt module"
   ]
  },
  {
   "cell_type": "code",
   "execution_count": 47,
   "id": "0ec963f1",
   "metadata": {},
   "outputs": [
    {
     "name": "stdout",
     "output_type": "stream",
     "text": [
      "[10797, 40483, 72396, 19161, 72745, 61187, 70810, 28189, 65380, 63976]\n",
      "[19161, 28189, 10797, 61187, 72745, 40483, 70810, 63976, 72396, 65380]\n"
     ]
    }
   ],
   "source": [
    "from random import randint,shuffle\n",
    "list = []\n",
    "for i in range (10):\n",
    "    x = randint(10000,99999)\n",
    "    list.insert(i,x)\n",
    "print(list)\n",
    "shuffle(list)\n",
    "print(list)"
   ]
  },
  {
   "cell_type": "code",
   "execution_count": null,
   "id": "562fb43c",
   "metadata": {},
   "outputs": [],
   "source": []
  }
 ],
 "metadata": {
  "kernelspec": {
   "display_name": "Python 3 (ipykernel)",
   "language": "python",
   "name": "python3"
  },
  "language_info": {
   "codemirror_mode": {
    "name": "ipython",
    "version": 3
   },
   "file_extension": ".py",
   "mimetype": "text/x-python",
   "name": "python",
   "nbconvert_exporter": "python",
   "pygments_lexer": "ipython3",
   "version": "3.10.1"
  }
 },
 "nbformat": 4,
 "nbformat_minor": 5
}
