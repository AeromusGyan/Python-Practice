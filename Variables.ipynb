{
 "cells": [
  {
   "cell_type": "markdown",
   "id": "a1c160bb",
   "metadata": {},
   "source": [
    "# Creating a Variable"
   ]
  },
  {
   "cell_type": "code",
   "execution_count": null,
   "id": "d7a49c21",
   "metadata": {},
   "outputs": [],
   "source": [
    "# integer valuen to the variable\n",
    "a= 10\n",
    "print(a)\n",
    "print(type(a))\n",
    "\n",
    "#Float value to the variable\n",
    "b=12.12\n",
    "print(b)\n",
    "print(type(b))\n",
    "# String value to the variable\n",
    "c= \"Python\"\n",
    "print(c)\n",
    "print(type(c))\n",
    "\n",
    "# List store in variable\n",
    "\n",
    "l1 = [1,2,3,4,5]\n",
    "print(l1)\n",
    "print(type(l1))\n",
    "\n",
    "# Tuple store in variable\n",
    "\n",
    "t1 = (1,2,3,4,5)\n",
    "print(t1)\n",
    "print(type(t1))"
   ]
  },
  {
   "cell_type": "markdown",
   "id": "4c4b46d6",
   "metadata": {},
   "source": [
    "# Type Conversion"
   ]
  },
  {
   "cell_type": "code",
   "execution_count": 7,
   "id": "514069d6",
   "metadata": {},
   "outputs": [
    {
     "name": "stdout",
     "output_type": "stream",
     "text": [
      "Enter the Value of A :120\n",
      "A : 120\n",
      "<class 'int'>\n"
     ]
    }
   ],
   "source": [
    "# Converting one datatyypr to other data type is called \n",
    "#Type Conversion / Casting\n",
    "\n",
    "a = int(input(\"Enter the Value of A :\"))\n",
    "print(\"A :\",a)\n",
    "print(type(a))"
   ]
  },
  {
   "cell_type": "code",
   "execution_count": null,
   "id": "2c1cc143",
   "metadata": {},
   "outputs": [],
   "source": []
  },
  {
   "cell_type": "code",
   "execution_count": null,
   "id": "075caec5",
   "metadata": {},
   "outputs": [],
   "source": []
  },
  {
   "cell_type": "code",
   "execution_count": null,
   "id": "16283724",
   "metadata": {},
   "outputs": [],
   "source": []
  },
  {
   "cell_type": "code",
   "execution_count": null,
   "id": "5b5cf8cf",
   "metadata": {},
   "outputs": [],
   "source": []
  },
  {
   "cell_type": "code",
   "execution_count": null,
   "id": "fec9ede7",
   "metadata": {},
   "outputs": [],
   "source": []
  },
  {
   "cell_type": "code",
   "execution_count": null,
   "id": "134910c8",
   "metadata": {},
   "outputs": [],
   "source": []
  },
  {
   "cell_type": "code",
   "execution_count": null,
   "id": "55553121",
   "metadata": {},
   "outputs": [],
   "source": []
  }
 ],
 "metadata": {
  "kernelspec": {
   "display_name": "Python 3 (ipykernel)",
   "language": "python",
   "name": "python3"
  },
  "language_info": {
   "codemirror_mode": {
    "name": "ipython",
    "version": 3
   },
   "file_extension": ".py",
   "mimetype": "text/x-python",
   "name": "python",
   "nbconvert_exporter": "python",
   "pygments_lexer": "ipython3",
   "version": "3.10.1"
  }
 },
 "nbformat": 4,
 "nbformat_minor": 5
}
