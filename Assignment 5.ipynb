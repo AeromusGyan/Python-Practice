{
 "cells": [
  {
   "cell_type": "markdown",
   "id": "5d5e04a8",
   "metadata": {},
   "source": [
    "# WAP to crrate a .txt file and read an entire text file"
   ]
  },
  {
   "cell_type": "code",
   "execution_count": 1,
   "id": "264ac712",
   "metadata": {},
   "outputs": [
    {
     "name": "stdout",
     "output_type": "stream",
     "text": [
      "Enter your name : Gyan\n",
      "Enter yoour phone number :7985079740\n",
      "File is created\n"
     ]
    }
   ],
   "source": [
    "#  open(\"file name\", \"Permission\")\n",
    "import json\n",
    "name = input(\"Enter your name : \")\n",
    "phone = int(input(\"Enter yoour phone number :\"))\n",
    "d1 = {}\n",
    "d1.update({name:phone})\n",
    "s = json.dumps(d1)\n",
    "\n",
    "file = open(\"gyan.txt\",\"w\")\n",
    "# str_list = file.readlines()\n",
    "# print(str_list)\n",
    "\n",
    "\n",
    "file.write(s)\n",
    "file.seek(0)\n",
    "print(\"File is created\")\n",
    "file.close()\n",
    "\n"
   ]
  },
  {
   "cell_type": "code",
   "execution_count": null,
   "id": "b1d93941",
   "metadata": {},
   "outputs": [],
   "source": []
  },
  {
   "cell_type": "code",
   "execution_count": 2,
   "id": "0e54ddcb",
   "metadata": {},
   "outputs": [
    {
     "name": "stdout",
     "output_type": "stream",
     "text": [
      "{\"Gyan\": 7985079740}\n",
      "File is Open\n"
     ]
    }
   ],
   "source": [
    "file = open(\"gyan.txt\",\"r\")\n",
    "filecontent = file.read()\n",
    "print(filecontent)\n",
    "print(\"File is Open\")\n",
    "file.close()"
   ]
  },
  {
   "cell_type": "code",
   "execution_count": 3,
   "id": "3dbccfc8",
   "metadata": {},
   "outputs": [
    {
     "name": "stdout",
     "output_type": "stream",
     "text": [
      "updated\n"
     ]
    }
   ],
   "source": [
    "m=\"handling program\"\n",
    "file=open(\"anshi1.txt\",\"a\")\n",
    "file.write(m)\n",
    "print(\"updated\")\n",
    "file.close()"
   ]
  },
  {
   "cell_type": "code",
   "execution_count": 4,
   "id": "eebad440",
   "metadata": {},
   "outputs": [
    {
     "name": "stdout",
     "output_type": "stream",
     "text": [
      "xyd\n"
     ]
    }
   ],
   "source": [
    "l1=[\"Apple\",\"Mango\",\"Orange\"]\n",
    "file=open(\"anshi1.txt\",\"w\")\n",
    "file.writelines(l1)\n",
    "print(\"xyd\")\n",
    "file.close()"
   ]
  },
  {
   "cell_type": "code",
   "execution_count": null,
   "id": "230a5b53",
   "metadata": {},
   "outputs": [],
   "source": []
  }
 ],
 "metadata": {
  "kernelspec": {
   "display_name": "Python 3 (ipykernel)",
   "language": "python",
   "name": "python3"
  },
  "language_info": {
   "codemirror_mode": {
    "name": "ipython",
    "version": 3
   },
   "file_extension": ".py",
   "mimetype": "text/x-python",
   "name": "python",
   "nbconvert_exporter": "python",
   "pygments_lexer": "ipython3",
   "version": "3.10.1"
  },
  "vscode": {
   "interpreter": {
    "hash": "107d7b120a5b68773a87d4067e673630b35702e55ebab3138143d08b1c4d7cbc"
   }
  }
 },
 "nbformat": 4,
 "nbformat_minor": 5
}
