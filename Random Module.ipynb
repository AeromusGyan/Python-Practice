{
 "cells": [
  {
   "cell_type": "markdown",
   "id": "96a3869a",
   "metadata": {},
   "source": [
    "# Import Random"
   ]
  },
  {
   "cell_type": "code",
   "execution_count": 1,
   "id": "15829813",
   "metadata": {},
   "outputs": [],
   "source": [
    "# from random import functionname\n",
    "\n",
    "# import random"
   ]
  },
  {
   "cell_type": "markdown",
   "id": "9887c18b",
   "metadata": {},
   "source": [
    "# Choice()"
   ]
  },
  {
   "cell_type": "code",
   "execution_count": 8,
   "id": "4c5bfb37",
   "metadata": {},
   "outputs": [
    {
     "name": "stdout",
     "output_type": "stream",
     "text": [
      "6\n"
     ]
    }
   ],
   "source": [
    "from random import choice\n",
    "l1 = [1,2,3,4,5,6]\n",
    "print(choice(l1))"
   ]
  },
  {
   "cell_type": "markdown",
   "id": "c1f98283",
   "metadata": {},
   "source": [
    "# randint()"
   ]
  },
  {
   "cell_type": "code",
   "execution_count": 14,
   "id": "cac14560",
   "metadata": {},
   "outputs": [
    {
     "name": "stdout",
     "output_type": "stream",
     "text": [
      "Your Otp : 193525\n"
     ]
    }
   ],
   "source": [
    "from random import randint\n",
    "otp = randint(10000,999999)\n",
    "\n",
    "print(\"Your Otp :\",otp)"
   ]
  },
  {
   "cell_type": "markdown",
   "id": "90edd53a",
   "metadata": {},
   "source": [
    "# shuffle()"
   ]
  },
  {
   "cell_type": "code",
   "execution_count": 2,
   "id": "3ff3b1ec",
   "metadata": {},
   "outputs": [
    {
     "name": "stdout",
     "output_type": "stream",
     "text": [
      "['Banana', 'Mango', 'Apple']\n"
     ]
    }
   ],
   "source": [
    "from random import shuffle\n",
    "\n",
    "l2 = [\"Apple\",\"Mango\",\"Banana\"]\n",
    "shuffle(l2)\n",
    "print(l2)"
   ]
  },
  {
   "cell_type": "code",
   "execution_count": null,
   "id": "826f9d06",
   "metadata": {},
   "outputs": [],
   "source": []
  }
 ],
 "metadata": {
  "kernelspec": {
   "display_name": "Python 3 (ipykernel)",
   "language": "python",
   "name": "python3"
  },
  "language_info": {
   "codemirror_mode": {
    "name": "ipython",
    "version": 3
   },
   "file_extension": ".py",
   "mimetype": "text/x-python",
   "name": "python",
   "nbconvert_exporter": "python",
   "pygments_lexer": "ipython3",
   "version": "3.10.1"
  }
 },
 "nbformat": 4,
 "nbformat_minor": 5
}
