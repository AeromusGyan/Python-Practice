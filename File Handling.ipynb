{
 "cells": [
  {
   "cell_type": "markdown",
   "id": "3e894b1d",
   "metadata": {},
   "source": [
    "# File creating"
   ]
  },
  {
   "cell_type": "code",
   "execution_count": 1,
   "id": "0f0189e5",
   "metadata": {},
   "outputs": [
    {
     "name": "stdout",
     "output_type": "stream",
     "text": [
      "File is created\n"
     ]
    }
   ],
   "source": [
    "#  open(\"file name\", \"Permission\")\n",
    "s = \"this is my file handling program\"\n",
    "file = open(\"demo1.txt\",\"w\")\n",
    "file.write(s)\n",
    "print(\"File is created\")\n",
    "file.close()"
   ]
  },
  {
   "cell_type": "markdown",
   "id": "29655d8b",
   "metadata": {},
   "source": [
    "# File read\n"
   ]
  },
  {
   "cell_type": "code",
   "execution_count": 2,
   "id": "2dda2149",
   "metadata": {},
   "outputs": [
    {
     "name": "stdout",
     "output_type": "stream",
     "text": [
      "this is my file handling program\n"
     ]
    }
   ],
   "source": [
    "file = open(\"demo1.txt\",\"r\")\n",
    "filecontent = file.read()\n",
    "print(filecontent)"
   ]
  },
  {
   "cell_type": "markdown",
   "id": "bd53b176",
   "metadata": {},
   "source": [
    "# Write a list into a file"
   ]
  },
  {
   "cell_type": "code",
   "execution_count": 1,
   "id": "b281e1cc",
   "metadata": {},
   "outputs": [
    {
     "name": "stdout",
     "output_type": "stream",
     "text": [
      "File is created\n"
     ]
    }
   ],
   "source": [
    "l1 = [\"python\",\"php\",\"java\",\"angular\"]\n",
    "file = open(\"demo2.txt\",\"w\")\n",
    "file.writelines(l1)\n",
    "print(\"File is created\")\n",
    "file.close()"
   ]
  },
  {
   "cell_type": "markdown",
   "id": "c812f438",
   "metadata": {},
   "source": [
    "# Read a list from file"
   ]
  },
  {
   "cell_type": "code",
   "execution_count": 2,
   "id": "8930ce0f",
   "metadata": {},
   "outputs": [
    {
     "name": "stdout",
     "output_type": "stream",
     "text": [
      "['pythonphpjavaangular']\n"
     ]
    }
   ],
   "source": [
    "file = open(\"demo2.txt\",\"r\")\n",
    "filelist = file.readlines()\n",
    "print(filelist)"
   ]
  },
  {
   "cell_type": "markdown",
   "id": "6304195f",
   "metadata": {},
   "source": [
    "# Appending the value into file"
   ]
  },
  {
   "cell_type": "code",
   "execution_count": 3,
   "id": "e25d906b",
   "metadata": {},
   "outputs": [
    {
     "name": "stdout",
     "output_type": "stream",
     "text": [
      "File is updated\n"
     ]
    }
   ],
   "source": [
    "s = \"Python file handling\"\n",
    "file = open(\"demo1.txt\",\"a\")\n",
    "file.write(s)\n",
    "print(\"File is updated\")\n",
    "file.close()"
   ]
  },
  {
   "cell_type": "code",
   "execution_count": null,
   "id": "3db65b9e",
   "metadata": {},
   "outputs": [],
   "source": []
  }
 ],
 "metadata": {
  "kernelspec": {
   "display_name": "Python 3 (ipykernel)",
   "language": "python",
   "name": "python3"
  },
  "language_info": {
   "codemirror_mode": {
    "name": "ipython",
    "version": 3
   },
   "file_extension": ".py",
   "mimetype": "text/x-python",
   "name": "python",
   "nbconvert_exporter": "python",
   "pygments_lexer": "ipython3",
   "version": "3.10.1"
  },
  "vscode": {
   "interpreter": {
    "hash": "107d7b120a5b68773a87d4067e673630b35702e55ebab3138143d08b1c4d7cbc"
   }
  }
 },
 "nbformat": 4,
 "nbformat_minor": 5
}
