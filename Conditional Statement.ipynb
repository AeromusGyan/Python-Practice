{
 "cells": [
  {
   "cell_type": "markdown",
   "id": "d1f7aa58",
   "metadata": {},
   "source": [
    "# Simple if"
   ]
  },
  {
   "cell_type": "code",
   "execution_count": 3,
   "id": "99b47a0e",
   "metadata": {},
   "outputs": [
    {
     "name": "stdout",
     "output_type": "stream",
     "text": [
      "Value of variable is 10\n",
      "Bye\n"
     ]
    }
   ],
   "source": [
    "var = 10\n",
    "if(var == 10):  #your condition is getting true\n",
    "    print(\"Value of variable is 10\")\n",
    "print(\"Bye\")"
   ]
  },
  {
   "cell_type": "code",
   "execution_count": 4,
   "id": "ef7f2aeb",
   "metadata": {},
   "outputs": [
    {
     "name": "stdout",
     "output_type": "stream",
     "text": [
      "Bye\n"
     ]
    }
   ],
   "source": [
    "a = 25\n",
    "if(a>=30):\n",
    "    print(\"Value of Variable is 25\")\n",
    "print(\"Bye\")"
   ]
  },
  {
   "cell_type": "markdown",
   "id": "f74be984",
   "metadata": {},
   "source": [
    "# If_Else"
   ]
  },
  {
   "cell_type": "code",
   "execution_count": 6,
   "id": "a0bd94fb",
   "metadata": {},
   "outputs": [
    {
     "name": "stdout",
     "output_type": "stream",
     "text": [
      "Enter the value of A :32\n",
      "Enter the value of B :50\n",
      "B is Greater\n"
     ]
    }
   ],
   "source": [
    "a = int(input(\"Enter the value of A :\"))\n",
    "b = int(input(\"Enter the value of B :\"))\n",
    "if a<b:\n",
    "    print(\"B is Greater\")\n",
    "else:\n",
    "    print(\"A is Greater\")"
   ]
  },
  {
   "cell_type": "markdown",
   "id": "fc6e41c5",
   "metadata": {},
   "source": [
    "# If_Else Ladder"
   ]
  },
  {
   "cell_type": "code",
   "execution_count": 9,
   "id": "f56acc80",
   "metadata": {},
   "outputs": [
    {
     "name": "stdout",
     "output_type": "stream",
     "text": [
      "enter the percentage :45\n",
      "Fail\n"
     ]
    }
   ],
   "source": [
    "# 1) percentage greater than 70 == dist\n",
    "# 2) percentage greater or equal to 65 and less than 70 == 1st class\n",
    "# 3) percentage greater or equal to 60 and less than 65 == 2nd class\n",
    "# 4) percentage greater or equal to 55 and less than 60 == 3rd class\n",
    "# 5) percentage less than 50 == fail\n",
    "\n",
    "p = int(input(\"enter the percentage :\"))\n",
    "if p>=70:\n",
    "    print(\"Dist\")\n",
    "elif p>=65 and p<=70:\n",
    "    print(\"1st\")\n",
    "elif p>=60 and p<=65:\n",
    "    print(\"2nd\")\n",
    "elif p>=55 and p<=60:\n",
    "    print(\"3rd\")\n",
    "else :\n",
    "    print(\"Fail\")"
   ]
  },
  {
   "cell_type": "markdown",
   "id": "ca99fa1a",
   "metadata": {},
   "source": [
    "# Nested if else"
   ]
  },
  {
   "cell_type": "code",
   "execution_count": 13,
   "id": "374be938",
   "metadata": {},
   "outputs": [
    {
     "name": "stdout",
     "output_type": "stream",
     "text": [
      "Enter your Age :24\n",
      "Enter your Weight51\n",
      "Blood Donaate\n"
     ]
    }
   ],
   "source": [
    "# 1) age >= 18\n",
    "# 2) weight>=50\n",
    "# 3) If both age and weight match with criteria then the user can donate the blood\n",
    "# 4) If age is less than 18 show one msg under age\n",
    "# 5) if weight is less than 50 than show one msg under weight\n",
    "# 6) if age doesnot match then it should ask for age\n",
    "\n",
    "age = int(input(\"Enter your Age :\"))\n",
    "\n",
    "if age>=18:\n",
    "    weg = int(input(\"Enter your Weight :\"))\n",
    "    if weg>=50:\n",
    "        print(\"Blood Donaate\")\n",
    "    else:\n",
    "        print(\"Under Weight\")\n",
    "else:\n",
    "    print(\"Under Age\")"
   ]
  },
  {
   "cell_type": "code",
   "execution_count": null,
   "id": "8f6cfacb",
   "metadata": {},
   "outputs": [],
   "source": []
  },
  {
   "cell_type": "code",
   "execution_count": null,
   "id": "7e470cd8",
   "metadata": {},
   "outputs": [],
   "source": []
  },
  {
   "cell_type": "code",
   "execution_count": null,
   "id": "68896062",
   "metadata": {},
   "outputs": [],
   "source": []
  }
 ],
 "metadata": {
  "kernelspec": {
   "display_name": "Python 3 (ipykernel)",
   "language": "python",
   "name": "python3"
  },
  "language_info": {
   "codemirror_mode": {
    "name": "ipython",
    "version": 3
   },
   "file_extension": ".py",
   "mimetype": "text/x-python",
   "name": "python",
   "nbconvert_exporter": "python",
   "pygments_lexer": "ipython3",
   "version": "3.10.1"
  }
 },
 "nbformat": 4,
 "nbformat_minor": 5
}
