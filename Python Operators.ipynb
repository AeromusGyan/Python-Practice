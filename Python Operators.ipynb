{
 "cells": [
  {
   "cell_type": "markdown",
   "id": "3d7fe333",
   "metadata": {},
   "source": [
    "# Arithmetic Operators"
   ]
  },
  {
   "cell_type": "code",
   "execution_count": 1,
   "id": "3156f6b4",
   "metadata": {},
   "outputs": [
    {
     "name": "stdout",
     "output_type": "stream",
     "text": [
      "Answwer : 30\n"
     ]
    }
   ],
   "source": [
    "# Addition Operator\n",
    "x=20\n",
    "y=10\n",
    "z=x+y\n",
    "print(\"Answwer :\",z)"
   ]
  },
  {
   "cell_type": "code",
   "execution_count": 3,
   "id": "ef98278a",
   "metadata": {},
   "outputs": [
    {
     "name": "stdout",
     "output_type": "stream",
     "text": [
      "Answer : 20\n"
     ]
    }
   ],
   "source": [
    "# Subtraction Operator\n",
    "x=30\n",
    "y=10\n",
    "z=x-y\n",
    "print(\"Answer :\",z)"
   ]
  },
  {
   "cell_type": "code",
   "execution_count": 2,
   "id": "214fecb9",
   "metadata": {},
   "outputs": [
    {
     "name": "stdout",
     "output_type": "stream",
     "text": [
      "Answer : 30\n"
     ]
    }
   ],
   "source": [
    "# Multiplication Operator\n",
    "x=10\n",
    "y=3\n",
    "z=x*y\n",
    "print(\"Answer :\",z)"
   ]
  },
  {
   "cell_type": "markdown",
   "id": "e05c4ee6",
   "metadata": {},
   "source": [
    "# Assignment Operators"
   ]
  },
  {
   "cell_type": "code",
   "execution_count": 4,
   "id": "f4a9e0b7",
   "metadata": {},
   "outputs": [
    {
     "name": "stdout",
     "output_type": "stream",
     "text": [
      "X : 5\n"
     ]
    }
   ],
   "source": [
    "# Equal to Operator\n",
    "\n",
    "x=5\n",
    "print(\"X :\",x)"
   ]
  },
  {
   "cell_type": "code",
   "execution_count": 6,
   "id": "3d891732",
   "metadata": {},
   "outputs": [
    {
     "name": "stdout",
     "output_type": "stream",
     "text": [
      "X : 10\n"
     ]
    }
   ],
   "source": [
    "# Addition and equal to operator\n",
    "x = 5\n",
    "x += 5   #   x=x+5\n",
    "print(\"X :\",x)"
   ]
  },
  {
   "cell_type": "code",
   "execution_count": 7,
   "id": "69564d22",
   "metadata": {},
   "outputs": [
    {
     "name": "stdout",
     "output_type": "stream",
     "text": [
      "X : 3\n"
     ]
    }
   ],
   "source": [
    "# Subtraction and equal to operator\n",
    "\n",
    "x = 5\n",
    "x -=2   #  x= x-2\n",
    "print(\"X :\",x)"
   ]
  },
  {
   "cell_type": "markdown",
   "id": "3bfc86d4",
   "metadata": {},
   "source": [
    "# Comparison Operators"
   ]
  },
  {
   "cell_type": "code",
   "execution_count": 9,
   "id": "f0de6884",
   "metadata": {},
   "outputs": [
    {
     "name": "stdout",
     "output_type": "stream",
     "text": [
      "True\n"
     ]
    }
   ],
   "source": [
    "# Equal to Equal to operator\n",
    "x = 5\n",
    "y = 5\n",
    "print(x==y)"
   ]
  },
  {
   "cell_type": "code",
   "execution_count": 10,
   "id": "47fa7619",
   "metadata": {},
   "outputs": [
    {
     "name": "stdout",
     "output_type": "stream",
     "text": [
      "True\n"
     ]
    }
   ],
   "source": [
    "# Not Equal to Operator\n",
    "x = 5\n",
    "y = 3\n",
    "print(x!=y)"
   ]
  },
  {
   "cell_type": "code",
   "execution_count": 11,
   "id": "0e9b0d77",
   "metadata": {},
   "outputs": [
    {
     "name": "stdout",
     "output_type": "stream",
     "text": [
      "True\n"
     ]
    }
   ],
   "source": [
    "# Greater than equal to\n",
    "x = 5\n",
    "y = 3\n",
    "print(x>y)"
   ]
  },
  {
   "cell_type": "code",
   "execution_count": 12,
   "id": "d189b337",
   "metadata": {},
   "outputs": [
    {
     "data": {
      "text/plain": [
       "1"
      ]
     },
     "execution_count": 12,
     "metadata": {},
     "output_type": "execute_result"
    }
   ],
   "source": [
    "1"
   ]
  },
  {
   "cell_type": "markdown",
   "id": "0f8877ba",
   "metadata": {},
   "source": [
    "# Logical Operator"
   ]
  },
  {
   "cell_type": "code",
   "execution_count": 13,
   "id": "a692df8d",
   "metadata": {},
   "outputs": [
    {
     "name": "stdout",
     "output_type": "stream",
     "text": [
      "False\n"
     ]
    }
   ],
   "source": [
    "# And operator\n",
    "x = 5\n",
    "print(x>3 and x<3)"
   ]
  },
  {
   "cell_type": "code",
   "execution_count": 16,
   "id": "9ed0e77b",
   "metadata": {},
   "outputs": [
    {
     "name": "stdout",
     "output_type": "stream",
     "text": [
      "True\n"
     ]
    }
   ],
   "source": [
    "# Or operator\n",
    "x = 5\n",
    "print(x>3 or x<4)"
   ]
  },
  {
   "cell_type": "markdown",
   "id": "7d58f7f0",
   "metadata": {},
   "source": [
    "# Identity Operator"
   ]
  },
  {
   "cell_type": "code",
   "execution_count": 19,
   "id": "3f93adbd",
   "metadata": {},
   "outputs": [
    {
     "name": "stdout",
     "output_type": "stream",
     "text": [
      "False\n",
      "True\n"
     ]
    }
   ],
   "source": [
    "# Is Operator\n",
    "\n",
    "x = [\"Apple\",\"Mango\"]\n",
    "y = [\"Apple\",\"Mango\"]\n",
    "z = x\n",
    "print(x is y)  # the object is not matching that's why it's give's us false\n",
    "\n",
    "print(x is z)   # the object is matching that's why it's retun's true"
   ]
  },
  {
   "cell_type": "markdown",
   "id": "2a8f14d6",
   "metadata": {},
   "source": [
    "# Membership Operator"
   ]
  },
  {
   "cell_type": "code",
   "execution_count": 21,
   "id": "69a3e7bb",
   "metadata": {},
   "outputs": [
    {
     "name": "stdout",
     "output_type": "stream",
     "text": [
      "False\n",
      "True\n"
     ]
    }
   ],
   "source": [
    "x = [\"Apple\",\"Mango\"]\n",
    "print(\"banana\" in x)\n",
    "\n",
    "print(\"Graps\" not in x)"
   ]
  },
  {
   "cell_type": "markdown",
   "id": "ac4e7fa4",
   "metadata": {},
   "source": [
    "# Operator Precedence"
   ]
  },
  {
   "cell_type": "code",
   "execution_count": 22,
   "id": "b920696b",
   "metadata": {},
   "outputs": [
    {
     "name": "stdout",
     "output_type": "stream",
     "text": [
      "Value x : 70.0\n"
     ]
    }
   ],
   "source": [
    "a = 20\n",
    "b = 15\n",
    "c = 10\n",
    "d = 5\n",
    "x = (a+b)*c/d  #  (35*10)/5\n",
    "print(\"Value x :\",x)"
   ]
  },
  {
   "cell_type": "code",
   "execution_count": null,
   "id": "ac5aa850",
   "metadata": {},
   "outputs": [],
   "source": []
  }
 ],
 "metadata": {
  "kernelspec": {
   "display_name": "Python 3 (ipykernel)",
   "language": "python",
   "name": "python3"
  },
  "language_info": {
   "codemirror_mode": {
    "name": "ipython",
    "version": 3
   },
   "file_extension": ".py",
   "mimetype": "text/x-python",
   "name": "python",
   "nbconvert_exporter": "python",
   "pygments_lexer": "ipython3",
   "version": "3.10.1"
  }
 },
 "nbformat": 4,
 "nbformat_minor": 5
}
