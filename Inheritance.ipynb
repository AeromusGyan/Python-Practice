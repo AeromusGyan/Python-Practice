{
 "cells": [
  {
   "cell_type": "markdown",
   "id": "31221488",
   "metadata": {},
   "source": [
    "# Single inheritance"
   ]
  },
  {
   "cell_type": "code",
   "execution_count": 2,
   "id": "89e4cd28",
   "metadata": {},
   "outputs": [
    {
     "name": "stdout",
     "output_type": "stream",
     "text": [
      "Parent class functioin called\n",
      "Child Class Function called\n"
     ]
    }
   ],
   "source": [
    "class ParentClass: #Parent class\n",
    "    def myfunc1(self):\n",
    "        print(\"Parent class functioin called\")\n",
    "        \n",
    "class ChildClass(ParentClass): #child class which inherit with parent class\n",
    "    def myfunc2(self):\n",
    "        print(\"Child Class Function called\")\n",
    "        \n",
    "# creating an object of child class\n",
    "c1 = ChildClass()\n",
    "c1.myfunc1()\n",
    "c1.myfunc2()"
   ]
  },
  {
   "cell_type": "markdown",
   "id": "c9ec7288",
   "metadata": {},
   "source": [
    "# Multilevel inheritance"
   ]
  },
  {
   "cell_type": "code",
   "execution_count": 3,
   "id": "c36bb0e8",
   "metadata": {},
   "outputs": [
    {
     "name": "stdout",
     "output_type": "stream",
     "text": [
      "Class A function called\n",
      "Class B function called\n",
      "Class C function called\n"
     ]
    }
   ],
   "source": [
    "class A: #Parent class\n",
    "    def myfunc1(self):\n",
    "        print(\"Class A function called\")\n",
    "\n",
    "class B(A): #subparent class\n",
    "    def myfunc2(self): \n",
    "        print(\"Class B function called\")\n",
    "        \n",
    "class C(B): #Child class\n",
    "    def myfunc3(self): \n",
    "        print(\"Class C function called\")\n",
    "        \n",
    "# creating an object of class c\n",
    "\n",
    "c1 = C()\n",
    "c1.myfunc1()\n",
    "c1.myfunc2()\n",
    "c1.myfunc3()"
   ]
  },
  {
   "cell_type": "markdown",
   "id": "71d8c481",
   "metadata": {},
   "source": [
    "# Multiple Inheritance"
   ]
  },
  {
   "cell_type": "code",
   "execution_count": 4,
   "id": "050f2a33",
   "metadata": {},
   "outputs": [
    {
     "name": "stdout",
     "output_type": "stream",
     "text": [
      "Class A1 function called\n",
      "Class B1 function called\n",
      "Class C1 function called\n"
     ]
    }
   ],
   "source": [
    "class A1: #Parent 1 class\n",
    "    def myfunc1(self):\n",
    "        print(\"Class A1 function called\")\n",
    "\n",
    "class B1: #Parent 2 class\n",
    "    def myfunc2(self): \n",
    "        print(\"Class B1 function called\")\n",
    "        \n",
    "class C1(A1,B1): #Child class\n",
    "    def myfunc3(self): \n",
    "        print(\"Class C1 function called\")\n",
    "        \n",
    "# creating an object of class c\n",
    "\n",
    "c1 = C1()\n",
    "c1.myfunc1()\n",
    "c1.myfunc2()\n",
    "c1.myfunc3()"
   ]
  },
  {
   "cell_type": "code",
   "execution_count": 6,
   "id": "03abe799",
   "metadata": {},
   "outputs": [
    {
     "name": "stdout",
     "output_type": "stream",
     "text": [
      "Class A1 function called\n",
      "Class B1 function called\n",
      "Class A1 function called\n",
      "Class C1 function called\n"
     ]
    }
   ],
   "source": [
    "class A1: #Parent class\n",
    "    def myfunc1(self):\n",
    "        print(\"Class A1 function called\")\n",
    "\n",
    "class B1(A1): #child 1 class\n",
    "    def myfunc2(self): \n",
    "        print(\"Class B1 function called\")\n",
    "        \n",
    "class C1(A1): #Child 2 class\n",
    "    def myfunc3(self): \n",
    "        print(\"Class C1 function called\")\n",
    "        \n",
    "# creating 2 objects 1 for class b1 and 1 for class c1\n",
    "b1 = B1()\n",
    "c1 = C1()\n",
    "\n",
    "b1.myfunc1() #function of class A1\n",
    "b1.myfunc2()#function of class B1\n",
    "\n",
    "c1.myfunc1()#function of class A1\n",
    "c1.myfunc3() #function of class C1"
   ]
  },
  {
   "cell_type": "markdown",
   "id": "9c9522fa",
   "metadata": {},
   "source": [
    "# Hybrid inheritance"
   ]
  },
  {
   "cell_type": "code",
   "execution_count": 8,
   "id": "80fb590a",
   "metadata": {},
   "outputs": [
    {
     "name": "stdout",
     "output_type": "stream",
     "text": [
      "Class B1 function called\n",
      "Class B2 function called\n",
      "Class B3 function called\n",
      "Class B4 function called\n"
     ]
    }
   ],
   "source": [
    "class B1: #parent class\n",
    "    def myfunc1(self):\n",
    "        print(\"Class B1 function called\")\n",
    "class B2(B1): #child class\n",
    "    def myfunc2(self):\n",
    "        print(\"Class B2 function called\")\n",
    "        \n",
    "class B3(B1): #child class\n",
    "    def myfunc3(self):\n",
    "        print(\"Class B3 function called\")\n",
    "        \n",
    "class B4(B2,B3): #child class\n",
    "    def myfunc4(self):\n",
    "        print(\"Class B4 function called\")\n",
    "        \n",
    "# Creating an object for class B4\n",
    "\n",
    "b = B4() #object of B4\n",
    "\n",
    "b.myfunc1()\n",
    "b.myfunc2()\n",
    "b.myfunc3()\n",
    "b.myfunc4()"
   ]
  },
  {
   "cell_type": "code",
   "execution_count": null,
   "id": "34cdced6",
   "metadata": {},
   "outputs": [],
   "source": []
  }
 ],
 "metadata": {
  "kernelspec": {
   "display_name": "Python 3 (ipykernel)",
   "language": "python",
   "name": "python3"
  },
  "language_info": {
   "codemirror_mode": {
    "name": "ipython",
    "version": 3
   },
   "file_extension": ".py",
   "mimetype": "text/x-python",
   "name": "python",
   "nbconvert_exporter": "python",
   "pygments_lexer": "ipython3",
   "version": "3.10.1"
  }
 },
 "nbformat": 4,
 "nbformat_minor": 5
}
