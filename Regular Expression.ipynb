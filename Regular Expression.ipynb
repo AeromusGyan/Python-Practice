{
 "cells": [
  {
   "cell_type": "markdown",
   "id": "2f5a19eb",
   "metadata": {},
   "source": [
    "# Regular Expression\n"
   ]
  },
  {
   "cell_type": "markdown",
   "id": "d8917a93",
   "metadata": {},
   "source": [
    "# Match function"
   ]
  },
  {
   "cell_type": "code",
   "execution_count": 1,
   "id": "14444249",
   "metadata": {},
   "outputs": [
    {
     "name": "stdout",
     "output_type": "stream",
     "text": [
      "<re.Match object; span=(0, 3), match='abc'>\n"
     ]
    }
   ],
   "source": [
    "# import re module\n",
    "import re\n",
    "pattern = r\"^abc\"\n",
    "string = \"abcdef\"\n",
    "x = re.match(pattern,string)\n",
    "print(x)"
   ]
  },
  {
   "cell_type": "markdown",
   "id": "00d00132",
   "metadata": {},
   "source": [
    "# Search Function"
   ]
  },
  {
   "cell_type": "code",
   "execution_count": 7,
   "id": "081a0d21",
   "metadata": {},
   "outputs": [
    {
     "name": "stdout",
     "output_type": "stream",
     "text": [
      "<re.Match object; span=(2, 3), match=' '>\n"
     ]
    }
   ],
   "source": [
    "import re \n",
    "txt = \"We are learning python\"\n",
    "x = re.search(\"\\s\",txt) #this expressiion is written for searching white space\n",
    "print(x)"
   ]
  },
  {
   "cell_type": "markdown",
   "id": "9db14754",
   "metadata": {},
   "source": [
    "# Replace Function "
   ]
  },
  {
   "cell_type": "code",
   "execution_count": 5,
   "id": "2153c4d4",
   "metadata": {},
   "outputs": [
    {
     "name": "stdout",
     "output_type": "stream",
     "text": [
      "Before replace : Learnvern provide free online training\n",
      "After replace : Learnvern python free online training\n"
     ]
    }
   ],
   "source": [
    "import re\n",
    "str1 = \"Learnvern provide free online training\"\n",
    "print(\"Before replace :\", str1)\n",
    "# replace provide to python\n",
    "x = re.sub(\"provide\",\"python\",str1)\n",
    "print(\"After replace :\", x)"
   ]
  },
  {
   "cell_type": "code",
   "execution_count": null,
   "id": "c937c22b",
   "metadata": {},
   "outputs": [],
   "source": []
  }
 ],
 "metadata": {
  "kernelspec": {
   "display_name": "Python 3 (ipykernel)",
   "language": "python",
   "name": "python3"
  },
  "language_info": {
   "codemirror_mode": {
    "name": "ipython",
    "version": 3
   },
   "file_extension": ".py",
   "mimetype": "text/x-python",
   "name": "python",
   "nbconvert_exporter": "python",
   "pygments_lexer": "ipython3",
   "version": "3.10.1"
  }
 },
 "nbformat": 4,
 "nbformat_minor": 5
}
