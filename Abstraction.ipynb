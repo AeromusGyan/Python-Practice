{
 "cells": [
  {
   "cell_type": "markdown",
   "id": "4d465078",
   "metadata": {},
   "source": [
    "# Abstraction"
   ]
  },
  {
   "cell_type": "code",
   "execution_count": 2,
   "id": "c4a7fea1",
   "metadata": {},
   "outputs": [
    {
     "name": "stdout",
     "output_type": "stream",
     "text": [
      "SBI interest is 5%\n",
      "HDFC interest is 10%\n"
     ]
    }
   ],
   "source": [
    "class RBI:   #abstract class\n",
    "    def Interest(self):  #abstract method\n",
    "        pass\n",
    "class SBI(RBI):\n",
    "    def Interest(self): #RBI interest method implements here \n",
    "        print(\"SBI interest is 5%\")\n",
    "        \n",
    "class HDFC(RBI):\n",
    "    def Interest(self):  #HDFC interest method implements here\n",
    "        print(\"HDFC interest is 10%\")\n",
    "        \n",
    "# Creating an object of class RBI\n",
    "s =SBI()\n",
    "# Creating an object of class HDFC\n",
    "h = HDFC()\n",
    "\n",
    "s.Interest()  #SBI interest method is called\n",
    "h.Interest()  #HDFC interest method is called"
   ]
  },
  {
   "cell_type": "code",
   "execution_count": 4,
   "id": "2879685f",
   "metadata": {},
   "outputs": [
    {
     "name": "stdout",
     "output_type": "stream",
     "text": [
      "I can Bark\n",
      "I can hisses\n"
     ]
    }
   ],
   "source": [
    "class Animal:  #abstract class\n",
    "    def Move(self):  #abstract method\n",
    "        pass\n",
    "class Dog(Animal):\n",
    "    def Move(self): #Dog interest method implements here \n",
    "        print(\"I can Bark\")\n",
    "        \n",
    "class Snake(Animal):\n",
    "    def Move(self): #Snake interest method implements here \n",
    "        print(\"I can hisses\")\n",
    "        \n",
    "        \n",
    "# Creating an object of class Dog\n",
    "s =Dog()\n",
    "# Creating an object of class Snake\n",
    "h = Snake()\n",
    "\n",
    "s.Move()  #Dog interest method is called\n",
    "h.Move()  #Snake interest method is called"
   ]
  },
  {
   "cell_type": "code",
   "execution_count": null,
   "id": "43a70ff2",
   "metadata": {},
   "outputs": [],
   "source": []
  }
 ],
 "metadata": {
  "kernelspec": {
   "display_name": "Python 3 (ipykernel)",
   "language": "python",
   "name": "python3"
  },
  "language_info": {
   "codemirror_mode": {
    "name": "ipython",
    "version": 3
   },
   "file_extension": ".py",
   "mimetype": "text/x-python",
   "name": "python",
   "nbconvert_exporter": "python",
   "pygments_lexer": "ipython3",
   "version": "3.10.1"
  }
 },
 "nbformat": 4,
 "nbformat_minor": 5
}
